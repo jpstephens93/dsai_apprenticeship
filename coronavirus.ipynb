{
 "cells": [
  {
   "cell_type": "markdown",
   "metadata": {},
   "source": [
    "# Coronavirus World Data Analysis"
   ]
  },
  {
   "cell_type": "markdown",
   "metadata": {},
   "source": [
    "KATE expects your code to define variables with specific names that correspond to certain things we are interested in.\n",
    "\n",
    "KATE will run your notebook from top to bottom and check the latest value of those variables, so make sure you don't overwrite them.\n",
    "\n",
    "* Remember to uncomment the line assigning the variable to your answer and don't change the variable or function names.\n",
    "* Use copies of the original or previous DataFrames to make sure you do not overwrite them by mistake.\n",
    "\n",
    "You will find instructions below about how to define each variable.\n",
    "\n",
    "Once you're happy with your code, upload your notebook to KATE to check your feedback."
   ]
  },
  {
   "cell_type": "markdown",
   "metadata": {},
   "source": [
    "First of all, run the following cell to:\n",
    "\n",
    "- import `pandas` with an alias of `pd`\n",
    "- read a CSV containing the data to work with\n",
    "- convert the `date` column to the `datetime` format\n",
    "- create a DataFrame `df` containing the data for only **1st July 2020**\n",
    "- take a look at the first few rows of the DataFrame\n"
   ]
  },
  {
   "cell_type": "code",
   "execution_count": 2,
   "metadata": {
    "inputHidden": false,
    "outputHidden": false
   },
   "outputs": [
    {
     "data": {
      "text/html": [
       "<div>\n",
       "<style scoped>\n",
       "    .dataframe tbody tr th:only-of-type {\n",
       "        vertical-align: middle;\n",
       "    }\n",
       "\n",
       "    .dataframe tbody tr th {\n",
       "        vertical-align: top;\n",
       "    }\n",
       "\n",
       "    .dataframe thead th {\n",
       "        text-align: right;\n",
       "    }\n",
       "</style>\n",
       "<table border=\"1\" class=\"dataframe\">\n",
       "  <thead>\n",
       "    <tr style=\"text-align: right;\">\n",
       "      <th></th>\n",
       "      <th>iso_code</th>\n",
       "      <th>continent</th>\n",
       "      <th>location</th>\n",
       "      <th>date</th>\n",
       "      <th>total_cases</th>\n",
       "      <th>new_cases</th>\n",
       "      <th>total_deaths</th>\n",
       "      <th>new_deaths</th>\n",
       "      <th>total_cases_per_million</th>\n",
       "      <th>new_cases_per_million</th>\n",
       "      <th>...</th>\n",
       "      <th>aged_70_older</th>\n",
       "      <th>gdp_per_capita</th>\n",
       "      <th>extreme_poverty</th>\n",
       "      <th>cvd_death_rate</th>\n",
       "      <th>diabetes_prevalence</th>\n",
       "      <th>female_smokers</th>\n",
       "      <th>male_smokers</th>\n",
       "      <th>handwashing_facilities</th>\n",
       "      <th>hospital_beds_per_thousand</th>\n",
       "      <th>life_expectancy</th>\n",
       "    </tr>\n",
       "  </thead>\n",
       "  <tbody>\n",
       "    <tr>\n",
       "      <th>173</th>\n",
       "      <td>AFG</td>\n",
       "      <td>Asia</td>\n",
       "      <td>Afghanistan</td>\n",
       "      <td>2020-07-01</td>\n",
       "      <td>31517.0</td>\n",
       "      <td>279.0</td>\n",
       "      <td>746.0</td>\n",
       "      <td>13.0</td>\n",
       "      <td>809.616</td>\n",
       "      <td>7.167</td>\n",
       "      <td>...</td>\n",
       "      <td>1.337</td>\n",
       "      <td>1803.987</td>\n",
       "      <td>NaN</td>\n",
       "      <td>597.029</td>\n",
       "      <td>9.59</td>\n",
       "      <td>NaN</td>\n",
       "      <td>NaN</td>\n",
       "      <td>37.746</td>\n",
       "      <td>0.50</td>\n",
       "      <td>64.83</td>\n",
       "    </tr>\n",
       "    <tr>\n",
       "      <th>300</th>\n",
       "      <td>ALB</td>\n",
       "      <td>Europe</td>\n",
       "      <td>Albania</td>\n",
       "      <td>2020-07-01</td>\n",
       "      <td>2535.0</td>\n",
       "      <td>69.0</td>\n",
       "      <td>62.0</td>\n",
       "      <td>4.0</td>\n",
       "      <td>880.881</td>\n",
       "      <td>23.977</td>\n",
       "      <td>...</td>\n",
       "      <td>8.643</td>\n",
       "      <td>11803.431</td>\n",
       "      <td>1.1</td>\n",
       "      <td>304.195</td>\n",
       "      <td>10.08</td>\n",
       "      <td>7.1</td>\n",
       "      <td>51.2</td>\n",
       "      <td>NaN</td>\n",
       "      <td>2.89</td>\n",
       "      <td>78.57</td>\n",
       "    </tr>\n",
       "    <tr>\n",
       "      <th>491</th>\n",
       "      <td>DZA</td>\n",
       "      <td>Africa</td>\n",
       "      <td>Algeria</td>\n",
       "      <td>2020-07-01</td>\n",
       "      <td>13907.0</td>\n",
       "      <td>336.0</td>\n",
       "      <td>912.0</td>\n",
       "      <td>7.0</td>\n",
       "      <td>317.142</td>\n",
       "      <td>7.662</td>\n",
       "      <td>...</td>\n",
       "      <td>3.857</td>\n",
       "      <td>13913.839</td>\n",
       "      <td>0.5</td>\n",
       "      <td>278.364</td>\n",
       "      <td>6.73</td>\n",
       "      <td>0.7</td>\n",
       "      <td>30.4</td>\n",
       "      <td>83.741</td>\n",
       "      <td>1.90</td>\n",
       "      <td>76.88</td>\n",
       "    </tr>\n",
       "    <tr>\n",
       "      <th>613</th>\n",
       "      <td>AND</td>\n",
       "      <td>Europe</td>\n",
       "      <td>Andorra</td>\n",
       "      <td>2020-07-01</td>\n",
       "      <td>855.0</td>\n",
       "      <td>0.0</td>\n",
       "      <td>52.0</td>\n",
       "      <td>0.0</td>\n",
       "      <td>11065.812</td>\n",
       "      <td>0.000</td>\n",
       "      <td>...</td>\n",
       "      <td>NaN</td>\n",
       "      <td>NaN</td>\n",
       "      <td>NaN</td>\n",
       "      <td>109.135</td>\n",
       "      <td>7.97</td>\n",
       "      <td>29.0</td>\n",
       "      <td>37.8</td>\n",
       "      <td>NaN</td>\n",
       "      <td>NaN</td>\n",
       "      <td>83.73</td>\n",
       "    </tr>\n",
       "    <tr>\n",
       "      <th>727</th>\n",
       "      <td>AGO</td>\n",
       "      <td>Africa</td>\n",
       "      <td>Angola</td>\n",
       "      <td>2020-07-01</td>\n",
       "      <td>284.0</td>\n",
       "      <td>8.0</td>\n",
       "      <td>13.0</td>\n",
       "      <td>2.0</td>\n",
       "      <td>8.641</td>\n",
       "      <td>0.243</td>\n",
       "      <td>...</td>\n",
       "      <td>1.362</td>\n",
       "      <td>5819.495</td>\n",
       "      <td>NaN</td>\n",
       "      <td>276.045</td>\n",
       "      <td>3.94</td>\n",
       "      <td>NaN</td>\n",
       "      <td>NaN</td>\n",
       "      <td>26.664</td>\n",
       "      <td>NaN</td>\n",
       "      <td>61.15</td>\n",
       "    </tr>\n",
       "  </tbody>\n",
       "</table>\n",
       "<p>5 rows × 34 columns</p>\n",
       "</div>"
      ],
      "text/plain": [
       "    iso_code continent     location       date  total_cases  new_cases  \\\n",
       "173      AFG      Asia  Afghanistan 2020-07-01      31517.0      279.0   \n",
       "300      ALB    Europe      Albania 2020-07-01       2535.0       69.0   \n",
       "491      DZA    Africa      Algeria 2020-07-01      13907.0      336.0   \n",
       "613      AND    Europe      Andorra 2020-07-01        855.0        0.0   \n",
       "727      AGO    Africa       Angola 2020-07-01        284.0        8.0   \n",
       "\n",
       "     total_deaths  new_deaths  total_cases_per_million  new_cases_per_million  \\\n",
       "173         746.0        13.0                  809.616                  7.167   \n",
       "300          62.0         4.0                  880.881                 23.977   \n",
       "491         912.0         7.0                  317.142                  7.662   \n",
       "613          52.0         0.0                11065.812                  0.000   \n",
       "727          13.0         2.0                    8.641                  0.243   \n",
       "\n",
       "     ...  aged_70_older  gdp_per_capita  extreme_poverty  cvd_death_rate  \\\n",
       "173  ...          1.337        1803.987              NaN         597.029   \n",
       "300  ...          8.643       11803.431              1.1         304.195   \n",
       "491  ...          3.857       13913.839              0.5         278.364   \n",
       "613  ...            NaN             NaN              NaN         109.135   \n",
       "727  ...          1.362        5819.495              NaN         276.045   \n",
       "\n",
       "     diabetes_prevalence  female_smokers  male_smokers  \\\n",
       "173                 9.59             NaN           NaN   \n",
       "300                10.08             7.1          51.2   \n",
       "491                 6.73             0.7          30.4   \n",
       "613                 7.97            29.0          37.8   \n",
       "727                 3.94             NaN           NaN   \n",
       "\n",
       "     handwashing_facilities hospital_beds_per_thousand  life_expectancy  \n",
       "173                  37.746                       0.50            64.83  \n",
       "300                     NaN                       2.89            78.57  \n",
       "491                  83.741                       1.90            76.88  \n",
       "613                     NaN                        NaN            83.73  \n",
       "727                  26.664                        NaN            61.15  \n",
       "\n",
       "[5 rows x 34 columns]"
      ]
     },
     "execution_count": 2,
     "metadata": {},
     "output_type": "execute_result"
    }
   ],
   "source": [
    "import pandas as pd\n",
    "\n",
    "data = pd.read_csv('data/owid-covid-data.csv')\n",
    "data['date'] = pd.to_datetime(data['date'])\n",
    "df = data[data['date'] == '2020-07-01']\n",
    "\n",
    "df.head()"
   ]
  },
  {
   "cell_type": "markdown",
   "metadata": {},
   "source": [
    "- `df` DataFrame now has one row of data for each country with data present for **July 1st 2020**\n",
    "- however, it also has a row with a `location` of `World` which contains aggregated values for all countries\n",
    "- `df.tail()`, `df.info()` and `df.shape` will allow for further exploration of the structure of the DataFrame"
   ]
  },
  {
   "cell_type": "code",
   "execution_count": null,
   "metadata": {},
   "outputs": [],
   "source": [
    "#df.tail()"
   ]
  },
  {
   "cell_type": "code",
   "execution_count": null,
   "metadata": {},
   "outputs": [],
   "source": [
    "#df.info()"
   ]
  },
  {
   "cell_type": "code",
   "execution_count": null,
   "metadata": {},
   "outputs": [],
   "source": [
    "#df.shape"
   ]
  },
  {
   "cell_type": "markdown",
   "metadata": {},
   "source": [
    "**Q1. Create a new DataFrame called `countries` which is the same as `df` but with the `World` row removed.**\n",
    "\n",
    "- Use the `.copy()` method to ensure you have a distinct DataFrame in memory\n",
    "- Assign this new DataFrame to the variable `countries`; do not modify `df`\n",
    "\n",
    "\n",
    "See below code syntax for some guidance:\n",
    "```python\n",
    "countries['location'] != 'World'\n",
    "```"
   ]
  },
  {
   "cell_type": "code",
   "execution_count": 4,
   "metadata": {},
   "outputs": [],
   "source": [
    "#add your code below\n",
    "countries = df.copy()\n",
    "countries = countries.drop(countries[countries['location'] == 'World'].index)\n"
   ]
  },
  {
   "cell_type": "markdown",
   "metadata": {},
   "source": [
    "**Q2. Check the shape of your DataFrame to confirm that `countries` has one row fewer than `df`:**\n",
    "\n",
    "Please note you have been provided with the code for this question to carry out the necessary analysis. Simply uncomment the line of code and run the code cell to produce the desired results."
   ]
  },
  {
   "cell_type": "code",
   "execution_count": 5,
   "metadata": {},
   "outputs": [
    {
     "name": "stdout",
     "output_type": "stream",
     "text": [
      "(211, 34) (210, 34)\n"
     ]
    }
   ],
   "source": [
    "print(df.shape, countries.shape)"
   ]
  },
  {
   "cell_type": "markdown",
   "metadata": {},
   "source": [
    "**Q3. Define a DataFrame based on the `countries` DataFrame, but which only contains the columns in `cols` (defined below) and assign this to a variable called `countries_dr`**\n",
    "\n",
    "- Order this DataFrame by `'total_deaths_per_million'`, with the highest numbers at the top.\n",
    "\n",
    "See below code syntax for some guidance:\n",
    "```python\n",
    "DataFrame_name[column_names].sort_values(by=..., ascending=False)\n",
    "```"
   ]
  },
  {
   "cell_type": "code",
   "execution_count": 6,
   "metadata": {},
   "outputs": [],
   "source": [
    "cols = ['continent', 'location', 'total_deaths_per_million']\n",
    "\n",
    "#add your code below\n",
    "countries_dr = countries[cols].sort_values('total_deaths_per_million', ascending=False)\n"
   ]
  },
  {
   "cell_type": "markdown",
   "metadata": {},
   "source": [
    "**Q4. Using the `countries` DataFrame we created earlier, find the sum of `total_tests` for countries in `Africa`, assigning the result, *as an integer*, to `africa_tests`.**\n",
    "\n",
    "- Use `.sum()` method calculate the sum for `total_tests` column\n",
    "- Use `.astype(int)` method or `int()` function to convert results to an integer\n",
    "\n",
    "\n",
    "See below code syntax for some guidance:\n",
    "```python\n",
    "countries['continent'] == 'Africa'\n",
    "```"
   ]
  },
  {
   "cell_type": "code",
   "execution_count": 7,
   "metadata": {},
   "outputs": [],
   "source": [
    "#add your code below\n",
    "africa_tests = int(countries[countries['continent'] == 'Africa']['total_tests'].sum())\n"
   ]
  },
  {
   "cell_type": "markdown",
   "metadata": {},
   "source": [
    "**Q5. How many countries in Africa have no value recorded for the number of `total_tests` column? Assign the result to `africa_missing_test_data`.**\n",
    "\n",
    "- You may find the pandas `.isna()` method and python `len()` function useful\n",
    "\n",
    "See below code syntax for some guidance:\n",
    "```python\n",
    "len(DataFrame_name[column_name].isna())\n",
    "```"
   ]
  },
  {
   "cell_type": "code",
   "execution_count": 8,
   "metadata": {},
   "outputs": [],
   "source": [
    "#add your code below\n",
    "africa_missing_test_data = len(countries[(countries['continent'] == 'Africa') & (countries['total_tests'].isna())])\n"
   ]
  },
  {
   "cell_type": "markdown",
   "metadata": {},
   "source": [
    "**Q6. How many countries have a higher value for `total_tests` than the `United Kingdom`? Assign your answer to a variable called `countries_more_tests`.**\n",
    "\n",
    "Remember to work from the `countries` DataFrame rather than `df`. You should avoid modifying any existing DataFrames. "
   ]
  },
  {
   "cell_type": "code",
   "execution_count": 9,
   "metadata": {},
   "outputs": [],
   "source": [
    "#add your code below\n",
    "uk_no_tests = countries[countries['location'] == 'United Kingdom']['total_tests'].values[0]\n",
    "countries_more_tests = len(countries[countries['total_tests'] > uk_no_tests])\n"
   ]
  },
  {
   "cell_type": "markdown",
   "metadata": {},
   "source": [
    "**Q7. Create a DataFrame called `beds_dr` which is based on the `countries` DataFrame, but contains only the columns `hospital_beds_per_thousand` and `total_deaths_per_million`.**\n",
    "\n",
    "- Your answer should only  include rows where there are values present in both of these columns\n",
    "- You may find the `.dropna()` method useful\n",
    "\n",
    "See below code syntax for some guidance:\n",
    "```python\n",
    "DataFrame_name.dropna()\n",
    "```"
   ]
  },
  {
   "cell_type": "code",
   "execution_count": 10,
   "metadata": {},
   "outputs": [],
   "source": [
    "#add your code below\n",
    "beds_dr = countries[['hospital_beds_per_thousand', 'total_deaths_per_million']].dropna()\n"
   ]
  },
  {
   "cell_type": "markdown",
   "metadata": {},
   "source": [
    "**Q8. Refer to the `beds_dr` DataFrame. What is the average `total_deaths_per_million` for entries in `beds_dr` where `hospital_beds_per_thousand` is greater than the mean?**\n",
    "\n",
    "- Save the results to a new variable called `dr_high_bed_ratio`\n",
    "\n",
    "See below code syntax for some guidance:\n",
    "```python\n",
    "beds_dr['hospital_beds_per_thousand'] > beds_dr['hospital_beds_per_thousand'].mean()\n",
    "```"
   ]
  },
  {
   "cell_type": "code",
   "execution_count": 11,
   "metadata": {},
   "outputs": [],
   "source": [
    "#add your code below\n",
    "mask = beds_dr['hospital_beds_per_thousand'] > beds_dr['hospital_beds_per_thousand'].mean()\n",
    "dr_high_bed_ratio = beds_dr[mask]['total_deaths_per_million'].mean()\n"
   ]
  },
  {
   "cell_type": "markdown",
   "metadata": {},
   "source": [
    "**Q9. Refer to the `beds_dr` DataFrame. What is the average `total_deaths_per_million` for entries in `beds_dr` where `hospital_beds_per_thousand` is less than the mean?**\n",
    "\n",
    "- Save the results to a new variable called `dr_low_bed_ratio`\n",
    "\n",
    "See below code syntax for some guidance:\n",
    "```python\n",
    "beds_dr['hospital_beds_per_thousand'] < beds_dr['hospital_beds_per_thousand'].mean()\n",
    "```"
   ]
  },
  {
   "cell_type": "code",
   "execution_count": 12,
   "metadata": {},
   "outputs": [],
   "source": [
    "#add your code below\n",
    "mask = beds_dr['hospital_beds_per_thousand'] < beds_dr['hospital_beds_per_thousand'].mean()\n",
    "dr_low_bed_ratio = beds_dr[mask]['total_deaths_per_million'].mean()\n"
   ]
  },
  {
   "cell_type": "markdown",
   "metadata": {},
   "source": [
    "**Q10. Refer to the `countries` DataFrame. Create a new DataFrame called `no_new_cases` which contains only rows from `countries` with zero `new_cases`.**\n",
    "\n",
    "Please note you have been provided with the code for this question to carry out the necessary analysis. Simply uncomment the lines of code and run the code cell to produce the desired results."
   ]
  },
  {
   "cell_type": "code",
   "execution_count": 13,
   "metadata": {},
   "outputs": [
    {
     "data": {
      "text/html": [
       "<div>\n",
       "<style scoped>\n",
       "    .dataframe tbody tr th:only-of-type {\n",
       "        vertical-align: middle;\n",
       "    }\n",
       "\n",
       "    .dataframe tbody tr th {\n",
       "        vertical-align: top;\n",
       "    }\n",
       "\n",
       "    .dataframe thead th {\n",
       "        text-align: right;\n",
       "    }\n",
       "</style>\n",
       "<table border=\"1\" class=\"dataframe\">\n",
       "  <thead>\n",
       "    <tr style=\"text-align: right;\">\n",
       "      <th></th>\n",
       "      <th>iso_code</th>\n",
       "      <th>continent</th>\n",
       "      <th>location</th>\n",
       "      <th>date</th>\n",
       "      <th>total_cases</th>\n",
       "      <th>new_cases</th>\n",
       "      <th>total_deaths</th>\n",
       "      <th>new_deaths</th>\n",
       "      <th>total_cases_per_million</th>\n",
       "      <th>new_cases_per_million</th>\n",
       "      <th>...</th>\n",
       "      <th>aged_70_older</th>\n",
       "      <th>gdp_per_capita</th>\n",
       "      <th>extreme_poverty</th>\n",
       "      <th>cvd_death_rate</th>\n",
       "      <th>diabetes_prevalence</th>\n",
       "      <th>female_smokers</th>\n",
       "      <th>male_smokers</th>\n",
       "      <th>handwashing_facilities</th>\n",
       "      <th>hospital_beds_per_thousand</th>\n",
       "      <th>life_expectancy</th>\n",
       "    </tr>\n",
       "  </thead>\n",
       "  <tbody>\n",
       "    <tr>\n",
       "      <th>613</th>\n",
       "      <td>AND</td>\n",
       "      <td>Europe</td>\n",
       "      <td>Andorra</td>\n",
       "      <td>2020-07-01</td>\n",
       "      <td>855.0</td>\n",
       "      <td>0.0</td>\n",
       "      <td>52.0</td>\n",
       "      <td>0.0</td>\n",
       "      <td>11065.812</td>\n",
       "      <td>0.0</td>\n",
       "      <td>...</td>\n",
       "      <td>NaN</td>\n",
       "      <td>NaN</td>\n",
       "      <td>NaN</td>\n",
       "      <td>109.135</td>\n",
       "      <td>7.97</td>\n",
       "      <td>29.0</td>\n",
       "      <td>37.8</td>\n",
       "      <td>NaN</td>\n",
       "      <td>NaN</td>\n",
       "      <td>83.73</td>\n",
       "    </tr>\n",
       "    <tr>\n",
       "      <th>836</th>\n",
       "      <td>AIA</td>\n",
       "      <td>North America</td>\n",
       "      <td>Anguilla</td>\n",
       "      <td>2020-07-01</td>\n",
       "      <td>3.0</td>\n",
       "      <td>0.0</td>\n",
       "      <td>0.0</td>\n",
       "      <td>0.0</td>\n",
       "      <td>199.973</td>\n",
       "      <td>0.0</td>\n",
       "      <td>...</td>\n",
       "      <td>NaN</td>\n",
       "      <td>NaN</td>\n",
       "      <td>NaN</td>\n",
       "      <td>NaN</td>\n",
       "      <td>NaN</td>\n",
       "      <td>NaN</td>\n",
       "      <td>NaN</td>\n",
       "      <td>NaN</td>\n",
       "      <td>NaN</td>\n",
       "      <td>81.88</td>\n",
       "    </tr>\n",
       "    <tr>\n",
       "      <th>952</th>\n",
       "      <td>ATG</td>\n",
       "      <td>North America</td>\n",
       "      <td>Antigua and Barbuda</td>\n",
       "      <td>2020-07-01</td>\n",
       "      <td>66.0</td>\n",
       "      <td>0.0</td>\n",
       "      <td>3.0</td>\n",
       "      <td>0.0</td>\n",
       "      <td>673.965</td>\n",
       "      <td>0.0</td>\n",
       "      <td>...</td>\n",
       "      <td>4.631</td>\n",
       "      <td>21490.943</td>\n",
       "      <td>NaN</td>\n",
       "      <td>191.511</td>\n",
       "      <td>13.17</td>\n",
       "      <td>NaN</td>\n",
       "      <td>NaN</td>\n",
       "      <td>NaN</td>\n",
       "      <td>3.8</td>\n",
       "      <td>77.02</td>\n",
       "    </tr>\n",
       "    <tr>\n",
       "      <th>1381</th>\n",
       "      <td>ABW</td>\n",
       "      <td>North America</td>\n",
       "      <td>Aruba</td>\n",
       "      <td>2020-07-01</td>\n",
       "      <td>103.0</td>\n",
       "      <td>0.0</td>\n",
       "      <td>3.0</td>\n",
       "      <td>0.0</td>\n",
       "      <td>964.727</td>\n",
       "      <td>0.0</td>\n",
       "      <td>...</td>\n",
       "      <td>7.452</td>\n",
       "      <td>35973.781</td>\n",
       "      <td>NaN</td>\n",
       "      <td>NaN</td>\n",
       "      <td>11.62</td>\n",
       "      <td>NaN</td>\n",
       "      <td>NaN</td>\n",
       "      <td>NaN</td>\n",
       "      <td>NaN</td>\n",
       "      <td>76.29</td>\n",
       "    </tr>\n",
       "    <tr>\n",
       "      <th>2080</th>\n",
       "      <td>BHS</td>\n",
       "      <td>North America</td>\n",
       "      <td>Bahamas</td>\n",
       "      <td>2020-07-01</td>\n",
       "      <td>104.0</td>\n",
       "      <td>0.0</td>\n",
       "      <td>11.0</td>\n",
       "      <td>0.0</td>\n",
       "      <td>264.464</td>\n",
       "      <td>0.0</td>\n",
       "      <td>...</td>\n",
       "      <td>5.200</td>\n",
       "      <td>27717.847</td>\n",
       "      <td>NaN</td>\n",
       "      <td>235.954</td>\n",
       "      <td>13.17</td>\n",
       "      <td>3.1</td>\n",
       "      <td>20.4</td>\n",
       "      <td>NaN</td>\n",
       "      <td>2.9</td>\n",
       "      <td>73.92</td>\n",
       "    </tr>\n",
       "  </tbody>\n",
       "</table>\n",
       "<p>5 rows × 34 columns</p>\n",
       "</div>"
      ],
      "text/plain": [
       "     iso_code      continent             location       date  total_cases  \\\n",
       "613       AND         Europe              Andorra 2020-07-01        855.0   \n",
       "836       AIA  North America             Anguilla 2020-07-01          3.0   \n",
       "952       ATG  North America  Antigua and Barbuda 2020-07-01         66.0   \n",
       "1381      ABW  North America                Aruba 2020-07-01        103.0   \n",
       "2080      BHS  North America              Bahamas 2020-07-01        104.0   \n",
       "\n",
       "      new_cases  total_deaths  new_deaths  total_cases_per_million  \\\n",
       "613         0.0          52.0         0.0                11065.812   \n",
       "836         0.0           0.0         0.0                  199.973   \n",
       "952         0.0           3.0         0.0                  673.965   \n",
       "1381        0.0           3.0         0.0                  964.727   \n",
       "2080        0.0          11.0         0.0                  264.464   \n",
       "\n",
       "      new_cases_per_million  ...  aged_70_older  gdp_per_capita  \\\n",
       "613                     0.0  ...            NaN             NaN   \n",
       "836                     0.0  ...            NaN             NaN   \n",
       "952                     0.0  ...          4.631       21490.943   \n",
       "1381                    0.0  ...          7.452       35973.781   \n",
       "2080                    0.0  ...          5.200       27717.847   \n",
       "\n",
       "      extreme_poverty  cvd_death_rate  diabetes_prevalence  female_smokers  \\\n",
       "613               NaN         109.135                 7.97            29.0   \n",
       "836               NaN             NaN                  NaN             NaN   \n",
       "952               NaN         191.511                13.17             NaN   \n",
       "1381              NaN             NaN                11.62             NaN   \n",
       "2080              NaN         235.954                13.17             3.1   \n",
       "\n",
       "      male_smokers  handwashing_facilities hospital_beds_per_thousand  \\\n",
       "613           37.8                     NaN                        NaN   \n",
       "836            NaN                     NaN                        NaN   \n",
       "952            NaN                     NaN                        3.8   \n",
       "1381           NaN                     NaN                        NaN   \n",
       "2080          20.4                     NaN                        2.9   \n",
       "\n",
       "      life_expectancy  \n",
       "613             83.73  \n",
       "836             81.88  \n",
       "952             77.02  \n",
       "1381            76.29  \n",
       "2080            73.92  \n",
       "\n",
       "[5 rows x 34 columns]"
      ]
     },
     "execution_count": 13,
     "metadata": {},
     "output_type": "execute_result"
    }
   ],
   "source": [
    "#add your code below\n",
    "no_new_cases = countries[countries['new_cases'] == 0]\n",
    "no_new_cases.head()\n",
    "\n"
   ]
  },
  {
   "cell_type": "markdown",
   "metadata": {},
   "source": [
    "**Q11. Refer to the `no_new_cases` DataFrame. Which country in `no_new_cases` DataFrame has had the highest number of `total_cases`?**\n",
    "\n",
    "- Save the results to a new variable called `highest_no_new`\n",
    "\n",
    "See below code syntax for some guidance:\n",
    "```python\n",
    "no_new_cases['total_cases'] == no_new_cases['total_cases'].max()\n",
    "```"
   ]
  },
  {
   "cell_type": "code",
   "execution_count": 14,
   "metadata": {},
   "outputs": [],
   "source": [
    "#add your code below\n",
    "highest_no_new = no_new_cases[no_new_cases['total_cases'] == no_new_cases['total_cases'].max()]['location'].values[0]\n"
   ]
  },
  {
   "cell_type": "markdown",
   "metadata": {},
   "source": [
    "**Q12. Refer to the `countries` DataFrame. What is the sum of the `population` of all countries which have had zero `total_deaths`?**\n",
    "\n",
    "- Assign your answer to `sum_populations_no_deaths`  variable\n",
    "- Your answer should be in millions, rounded to the nearest whole number, and converted to an integer"
   ]
  },
  {
   "cell_type": "code",
   "execution_count": 16,
   "metadata": {},
   "outputs": [],
   "source": [
    "#add your code below\n",
    "sum_populations_no_deaths = int(round(countries[countries['total_deaths'] == 0]['population'].sum() / 1e6))\n"
   ]
  },
  {
   "cell_type": "markdown",
   "metadata": {},
   "source": [
    "**Q13. Create a function called `country_metric` which accepts the following three parameters:**\n",
    "\n",
    "- a DataFrame (which can be assumed to be of a similar format to `countries`)\n",
    "- a location (i.e. a string  which will be found in the `location` column of the DataFrame)\n",
    "- a metric (i.e. a string which will be found in any column  (other than `location`)  in the DataFrame)\n",
    "\n",
    "The function should return only the value from the first row for a given `location` and  `metric`. *You may find  `.iloc[]`  useful.*\n",
    "\n",
    "See below code syntax for some guidance:\n",
    "```python\n",
    "def country_metric(df, location, metric):\n",
    "    \n",
    "    return df[df['location'] == location].iloc[0][metric]\n",
    "```"
   ]
  },
  {
   "cell_type": "code",
   "execution_count": 17,
   "metadata": {},
   "outputs": [],
   "source": [
    "#add your code below\n",
    "def country_metric(df, location, metric):\n",
    "    return df[df['location'] == location].iloc[0][metric]\n"
   ]
  },
  {
   "cell_type": "markdown",
   "metadata": {},
   "source": [
    "**Q.14 Use your function to collect the value for `Vietnam` for the metric `aged_70_older`, assigning the result to `vietnam_older_70`.**\n",
    "\n",
    "Please note you have been provided with the code for this question to carry out the necessary analysis. Simply uncomment the lines of code and run the code cell to produce the desired results."
   ]
  },
  {
   "cell_type": "code",
   "execution_count": 18,
   "metadata": {},
   "outputs": [
    {
     "data": {
      "text/plain": [
       "4.718"
      ]
     },
     "execution_count": 18,
     "metadata": {},
     "output_type": "execute_result"
    }
   ],
   "source": [
    "#add your code below\n",
    "vietnam_older_70 = country_metric(countries, 'Vietnam', 'aged_70_older')\n",
    "vietnam_older_70\n",
    "\n"
   ]
  },
  {
   "cell_type": "markdown",
   "metadata": {},
   "source": [
    "**Q.15 Create another function called `countries_average`, which accepts the following three parameters:**\n",
    "\n",
    "- a DataFrame \"df\" (which can be assumed to be such as `countries`)\n",
    "- a list of countries \"countries\" (which can be assumed to all be found in the `location` column of the DataFrame)\n",
    "- a string \"metric\" (which can be assumed to be a column (other than `location`) which will be found in the DataFrame) . For instance, this string value can be `life_expectancy`.\n",
    "\n",
    "Note that for the test on KATE for this question to pass, you need to make sure the function accepts the three parameters in the following order: `countries_average(df, countries, metric)`. (You can call your parameters however you like as long as the type of these parameters are what was described above).\n",
    "\n",
    "The function should return the average value for the given metric for the given list of countries.\n",
    "\n",
    "You may find `.isin()`  method useful while filtering for list of countries."
   ]
  },
  {
   "cell_type": "code",
   "execution_count": 19,
   "metadata": {},
   "outputs": [],
   "source": [
    "#add your code below\n",
    "def countries_average(df, countries, metric):\n",
    "    return df[df['location'].isin(countries)][metric].mean()\n"
   ]
  },
  {
   "cell_type": "markdown",
   "metadata": {},
   "source": [
    "**Q16. Use your `countries_average` function to find out the average `life_expectancy` of countries in the `g7` list defined below. Assign the result to the variable `g7_avg_life_expectancy`.**\n",
    "\n",
    "Please note you have been provided with the code for this question to carry out the necessary analysis. Simply uncomment the lines of code and run the code cell to produce the desired results."
   ]
  },
  {
   "cell_type": "code",
   "execution_count": 20,
   "metadata": {},
   "outputs": [],
   "source": [
    "g7 = ['United States', 'Italy', 'Canada', 'Japan', 'United Kingdom', 'Germany', 'France']"
   ]
  },
  {
   "cell_type": "code",
   "execution_count": 21,
   "metadata": {},
   "outputs": [
    {
     "data": {
      "text/plain": [
       "82.10571428571428"
      ]
     },
     "execution_count": 21,
     "metadata": {},
     "output_type": "execute_result"
    }
   ],
   "source": [
    "#add your code below\n",
    "g7 = ['United States', 'Italy', 'Canada', 'Japan', 'United Kingdom', 'Germany', 'France']\n",
    "g7_avg_life_expectancy = countries_average(df, g7, 'life_expectancy')\n",
    "g7_avg_life_expectancy\n"
   ]
  },
  {
   "cell_type": "markdown",
   "metadata": {},
   "source": [
    "**Q.17 Refer to the `countries` DataFrame. Find the country with lowest value for `life_expectancy` in the `countries` DataFrame, and create a string which is formatted as follows:**\n",
    "\n",
    "'{country} has a life expectancy of {diff} years lower than the G7 average.'\n",
    "    \n",
    "Assign your string to the variable `headline` and ensure it is formatted exactly as above, with:\n",
    "- use `f-strings` to format the string\n",
    "- {country} being replaced by the value in the `location` column of the DataFrame\n",
    "- {diff} being replaced by a float **rounded to one decimal place**, of the value from the `life_expectancy` column subtracted from `g7_avg_life_expectancy`. Please note that {diff} should be a positive value\n",
    "```python\n",
    "diff = <G7 countries average life expectancy> - <value of the lowest life expectancy country>\n",
    "```\n",
    "    \n",
    "    \n",
    "    \n",
    "See below code syntax for some guidance:\n",
    "```python\n",
    "lowest = countries[countries['life_expectancy'] == countries['life_expectancy'].min()].iloc[0]\n",
    "country = lowest['location']\n",
    "life_exp = lowest['life_expectancy']\n",
    "```"
   ]
  },
  {
   "cell_type": "code",
   "execution_count": 22,
   "metadata": {},
   "outputs": [],
   "source": [
    "#add your code below\n",
    "min_life_exp = countries['life_expectancy'].min()\n",
    "country = countries[countries['life_expectancy'] == min_life_exp]['location'].values[0]\n",
    "diff = round(g7_avg_life_expectancy - min_life_exp, 1)\n",
    "\n",
    "headline = f'{country} has a life expectancy of {diff} years lower than the G7 average.'\n"
   ]
  },
  {
   "cell_type": "code",
   "execution_count": null,
   "metadata": {},
   "outputs": [],
   "source": []
  }
 ],
 "metadata": {
  "kernel_info": {
   "name": "python3"
  },
  "kernelspec": {
   "display_name": "Python 3 (ipykernel)",
   "language": "python",
   "name": "python3"
  },
  "language_info": {
   "codemirror_mode": {
    "name": "ipython",
    "version": 3
   },
   "file_extension": ".py",
   "mimetype": "text/x-python",
   "name": "python",
   "nbconvert_exporter": "python",
   "pygments_lexer": "ipython3",
   "version": "3.10.0"
  },
  "nteract": {
   "version": "0.15.0"
  }
 },
 "nbformat": 4,
 "nbformat_minor": 4
}
