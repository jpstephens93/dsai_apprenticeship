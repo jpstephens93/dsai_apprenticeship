{
 "cells": [
  {
   "cell_type": "markdown",
   "metadata": {},
   "source": [
    "# Real Estate Price Analysis\n",
    "\n",
    "The real estate dataset used in this assignment contains historical data from certain real estate markets between June 2012 and May 2013. \n",
    "\n",
    "It is related to two districts in Taipei City and two districts in New Taipei City. \n",
    "\n",
    "<br>\n",
    "\n",
    "The dataset is composed of 414 records of property sales and the features describe certain aspects of the properties sold. This data is sourced from the UCI machine learning webpage, where this another other datasets are [publicly accessible](https://archive.ics.uci.edu/ml/datasets/Real+estate+valuation+data+set)\n",
    "\n",
    "The following table provides a summary of each feature in the dataset: "
   ]
  },
  {
   "cell_type": "markdown",
   "metadata": {},
   "source": [
    "KATE expects your code to define variables with specific names that correspond to certain things we are interested in.\n",
    "\n",
    "KATE will run your notebook from top to bottom and check the latest value of those variables, so make sure you don't overwrite them.\n",
    "\n",
    "* Remember to uncomment the line assigning the variable to your answer and don't change the variable or function names.\n",
    "* Use copies of the original or previous DataFrames to make sure you do not overwrite them by mistake.\n",
    "\n",
    "You will find instructions below about how to define each variable.\n",
    "\n",
    "Once you're happy with your code, upload your notebook to KATE to check your feedback."
   ]
  },
  {
   "cell_type": "markdown",
   "metadata": {},
   "source": [
    "\n",
    "| Variable  | Meaning | Type |\n",
    "| ------------- | ------------- | ------------- |\n",
    "| X1 Transaction Date|  Month in which the transaction has happened starting counting from the first month of the dataset |  for example 2013.250=2013 March |\n",
    "| X2 house age | The house age  | Unit (year) |\n",
    "| X3 distance to the nearest MRT station | The distance to the nearet MRT station | Numerical (meters) |\n",
    "| X4 number of convenience stores | The number of convenience stores in the living circle on foot | Numerical (integer) | \n",
    "| X5 latitude | The geographic coordinate, latitude | numerical (degree)| \n",
    "| X6 longitude | The geographic coordinate, longitude | numerical (degree) | \n",
    "| Y house price of unit area | Output variable, house price of unit area | numerical (10000 New Taiwan Dolla/Ping, where Ping is a local unit, 1 Ping = 3.3 meter squared)"
   ]
  },
  {
   "cell_type": "markdown",
   "metadata": {},
   "source": [
    "Having inspected what the features mean, let's begin by importing the libaries needed for this assignment:"
   ]
  },
  {
   "cell_type": "code",
   "execution_count": 4,
   "metadata": {},
   "outputs": [],
   "source": [
    "import pandas as pd\n",
    "import seaborn as sns \n",
    "import matplotlib.pyplot as plt"
   ]
  },
  {
   "cell_type": "markdown",
   "metadata": {},
   "source": [
    "## Load the dataset\n",
    "\n",
    "With these libaries, in particular `pandas`, let's load the `real_estate_valuation_data_set.csv` file, which is located in a folder called `data`, into a DataFrame named `df` using the following code:"
   ]
  },
  {
   "cell_type": "code",
   "execution_count": 6,
   "metadata": {},
   "outputs": [
    {
     "data": {
      "text/html": [
       "<div>\n",
       "<style scoped>\n",
       "    .dataframe tbody tr th:only-of-type {\n",
       "        vertical-align: middle;\n",
       "    }\n",
       "\n",
       "    .dataframe tbody tr th {\n",
       "        vertical-align: top;\n",
       "    }\n",
       "\n",
       "    .dataframe thead th {\n",
       "        text-align: right;\n",
       "    }\n",
       "</style>\n",
       "<table border=\"1\" class=\"dataframe\">\n",
       "  <thead>\n",
       "    <tr style=\"text-align: right;\">\n",
       "      <th></th>\n",
       "      <th>X1 transaction date</th>\n",
       "      <th>X2 house age</th>\n",
       "      <th>X3 distance to the nearest MRT station</th>\n",
       "      <th>X4 number of convenience stores</th>\n",
       "      <th>X5 latitude</th>\n",
       "      <th>X6 longitude</th>\n",
       "      <th>Y house price of unit area</th>\n",
       "    </tr>\n",
       "  </thead>\n",
       "  <tbody>\n",
       "    <tr>\n",
       "      <th>0</th>\n",
       "      <td>2012.917</td>\n",
       "      <td>32.0</td>\n",
       "      <td>84.87882</td>\n",
       "      <td>10</td>\n",
       "      <td>24.98298</td>\n",
       "      <td>121.54024</td>\n",
       "      <td>37.9</td>\n",
       "    </tr>\n",
       "    <tr>\n",
       "      <th>1</th>\n",
       "      <td>2012.917</td>\n",
       "      <td>19.5</td>\n",
       "      <td>306.59470</td>\n",
       "      <td>9</td>\n",
       "      <td>24.98034</td>\n",
       "      <td>121.53951</td>\n",
       "      <td>42.2</td>\n",
       "    </tr>\n",
       "    <tr>\n",
       "      <th>2</th>\n",
       "      <td>2013.583</td>\n",
       "      <td>13.3</td>\n",
       "      <td>561.98450</td>\n",
       "      <td>5</td>\n",
       "      <td>24.98746</td>\n",
       "      <td>121.54391</td>\n",
       "      <td>47.3</td>\n",
       "    </tr>\n",
       "    <tr>\n",
       "      <th>3</th>\n",
       "      <td>2013.500</td>\n",
       "      <td>13.3</td>\n",
       "      <td>561.98450</td>\n",
       "      <td>5</td>\n",
       "      <td>24.98746</td>\n",
       "      <td>121.54391</td>\n",
       "      <td>54.8</td>\n",
       "    </tr>\n",
       "    <tr>\n",
       "      <th>4</th>\n",
       "      <td>2012.833</td>\n",
       "      <td>5.0</td>\n",
       "      <td>390.56840</td>\n",
       "      <td>5</td>\n",
       "      <td>24.97937</td>\n",
       "      <td>121.54245</td>\n",
       "      <td>43.1</td>\n",
       "    </tr>\n",
       "  </tbody>\n",
       "</table>\n",
       "</div>"
      ],
      "text/plain": [
       "   X1 transaction date  X2 house age  X3 distance to the nearest MRT station  \\\n",
       "0             2012.917          32.0                                84.87882   \n",
       "1             2012.917          19.5                               306.59470   \n",
       "2             2013.583          13.3                               561.98450   \n",
       "3             2013.500          13.3                               561.98450   \n",
       "4             2012.833           5.0                               390.56840   \n",
       "\n",
       "   X4 number of convenience stores  X5 latitude  X6 longitude  \\\n",
       "0                               10     24.98298     121.54024   \n",
       "1                                9     24.98034     121.53951   \n",
       "2                                5     24.98746     121.54391   \n",
       "3                                5     24.98746     121.54391   \n",
       "4                                5     24.97937     121.54245   \n",
       "\n",
       "   Y house price of unit area  \n",
       "0                        37.9  \n",
       "1                        42.2  \n",
       "2                        47.3  \n",
       "3                        54.8  \n",
       "4                        43.1  "
      ]
     },
     "execution_count": 6,
     "metadata": {},
     "output_type": "execute_result"
    }
   ],
   "source": [
    "df = pd.read_csv('data/real_estate_valuation_data_set.csv')\n",
    "df.head()"
   ]
  },
  {
   "cell_type": "markdown",
   "metadata": {},
   "source": [
    "## Dataset Preprocessing \n",
    "\n",
    "Before proceeding to the analysis, let's first do some preprocessing to clean our data and get a better sense of what it looks like.\n",
    "\n",
    "<br>\n",
    "\n",
    "**1. Print the format of your dataframe (number of rows, columns) and, store whether or not the dataframe contains any missing values in a variable called `values_missing`.**\n",
    "\n",
    "Note that `values_missing` should be a Boolean.\n",
    "\n",
    "*Hint: you can use two `pandas` methods, [`.isna()`](https://pandas.pydata.org/pandas-docs/stable/reference/api/pandas.DataFrame.isna.html) and [`.any()`](https://pandas.pydata.org/pandas-docs/stable/reference/api/pandas.DataFrame.any.html) applied to your dataframe to get this information.*"
   ]
  },
  {
   "cell_type": "code",
   "execution_count": 7,
   "metadata": {},
   "outputs": [
    {
     "name": "stdout",
     "output_type": "stream",
     "text": [
      "<class 'pandas.core.frame.DataFrame'>\n",
      "RangeIndex: 414 entries, 0 to 413\n",
      "Data columns (total 7 columns):\n",
      " #   Column                                  Non-Null Count  Dtype  \n",
      "---  ------                                  --------------  -----  \n",
      " 0   X1 transaction date                     414 non-null    float64\n",
      " 1   X2 house age                            414 non-null    float64\n",
      " 2   X3 distance to the nearest MRT station  414 non-null    float64\n",
      " 3   X4 number of convenience stores         414 non-null    int64  \n",
      " 4   X5 latitude                             414 non-null    float64\n",
      " 5   X6 longitude                            414 non-null    float64\n",
      " 6   Y house price of unit area              414 non-null    float64\n",
      "dtypes: float64(6), int64(1)\n",
      "memory usage: 22.8 KB\n"
     ]
    }
   ],
   "source": [
    "# Your code here \n",
    "df.info()\n",
    "values_missing = df.isna().any().any()"
   ]
  },
  {
   "cell_type": "markdown",
   "metadata": {},
   "source": [
    "**2. Remove the first column `X1 transaction date`from the dataset and save the newly created dataset into a new variable `df_new`.**\n",
    "\n",
    "You should also use the `.copy()` method when creating `df_new`."
   ]
  },
  {
   "cell_type": "code",
   "execution_count": 8,
   "metadata": {},
   "outputs": [],
   "source": [
    "# Your code here\n",
    "df_new = df.copy()\n",
    "df_new.drop(columns=['X1 transaction date'], inplace=True)"
   ]
  },
  {
   "cell_type": "markdown",
   "metadata": {},
   "source": [
    "**3.  Plot a histogram of the target variable `Y house price of unit area`.**\n",
    "\n",
    "This is an important preliminary step to help us understand the distribution of the target variable. For example you can see if it resembles a normal distribution, or if it is skewed in some way, and adjust your model accordingly.\n",
    "\n",
    "Assign the output to a variable called `hist_y`.\n",
    "\n",
    "*Hint: use the `.hist()` method on a `pandas` `Series`*"
   ]
  },
  {
   "cell_type": "code",
   "execution_count": 9,
   "metadata": {},
   "outputs": [
    {
     "data": {
      "image/png": "[encoded data removed]",
      "text/plain": [
       "<Figure size 640x480 with 1 Axes>"
      ]
     },
     "metadata": {},
     "output_type": "display_data"
    }
   ],
   "source": [
    "# We create a new figure to make sure other figures in the notebook don't get modified\n",
    "plt.figure()\n",
    "\n",
    "hist_y = df_new['Y house price of unit area'].hist()"
   ]
  },
  {
   "cell_type": "markdown",
   "metadata": {},
   "source": [
    "**4. Plot histograms of all of the remaining input variables in your dataframe.**\n",
    "\n",
    "Note that we have already dropped the `X1 transaction date` variable, which leaves us with five variables (`X2` through `X6`).\n",
    "\n",
    "<br>\n",
    "\n",
    "To create these plots:\n",
    "  - Use the `fig, ax = plt.subplots(figsize=(10,25), dpi=50)` to create your figure and axes\n",
    "  - Filter down `df_new` to the relevant columns and call `.hist()` passing in:\n",
    "     - `ax=ax`\n",
    "     - `layout=(5,1)`\n",
    "     - and the column names, ordered from `X2` to `X6`\n",
    "\n",
    "Assign the output of `.hist()` to a variable called `hist_per_input`."
   ]
  },
  {
   "cell_type": "code",
   "execution_count": 10,
   "metadata": {},
   "outputs": [
    {
     "name": "stderr",
     "output_type": "stream",
     "text": [
      "C:\\Users\\JackStephens\\AppData\\Local\\Temp\\ipykernel_20268\\2488794044.py:7: UserWarning: To output multiple subplots, the figure containing the passed axes is being cleared.\n",
      "  hist_per_input = df_new[cols].hist(ax=ax, layout=(5, 1), column=cols)\n"
     ]
    },
    {
     "data": {
      "text/plain": [
       "<Figure size 640x480 with 0 Axes>"
      ]
     },
     "metadata": {},
     "output_type": "display_data"
    },
    {
     "data": {
      "image/png": "[encoded data removed]",
      "text/plain": [
       "<Figure size 500x1250 with 5 Axes>"
      ]
     },
     "metadata": {},
     "output_type": "display_data"
    }
   ],
   "source": [
    "# We create a new figure to make sure other figures in the notebook don't get modified\n",
    "plt.figure()\n",
    "\n",
    "fig, ax = plt.subplots(figsize=(10, 25), dpi=50)\n",
    "cols = ['X2 house age', 'X3 distance to the nearest MRT station', 'X4 number of convenience stores', 'X5 latitude',\n",
    "        'X6 longitude']\n",
    "hist_per_input = df_new[cols].hist(ax=ax, layout=(5, 1), column=cols)"
   ]
  },
  {
   "cell_type": "markdown",
   "metadata": {},
   "source": [
    "**5. Obtain the mean and median of the variable outcome `Y house price of unit area`.**\n",
    "\n",
    "Store the results in variables called `mean` and `median`. \n"
   ]
  },
  {
   "cell_type": "code",
   "execution_count": 11,
   "metadata": {},
   "outputs": [],
   "source": [
    "house_price_mean = df_new['Y house price of unit area'].mean()\n",
    "house_price_median = df_new['Y house price of unit area'].median()"
   ]
  },
  {
   "cell_type": "markdown",
   "metadata": {},
   "source": [
    "**6. Scale all the dataframe columns but `Y house price of unit area`, that is our output. For scaling use the min-max normalization. Save the newly scaled dataframe into a new dataframe named `df_new_scaled`.**\n",
    "\n",
    "The min max scaling formula (considering you want to scale between 0 and 1) is as follows: \n",
    "\n",
    "```Python\n",
    "df_new_scaled = (originalDataframe - min_val_originalDF) / (max_val_originalDF - min_val_originalDF) \n",
    "```"
   ]
  },
  {
   "cell_type": "code",
   "execution_count": 12,
   "metadata": {},
   "outputs": [],
   "source": [
    "df_new_scaled = (df_new.iloc[:, :-1] - df_new.iloc[:, :-1].min()) / (df_new.iloc[:, :-1].max() - df_new.iloc[:, :-1].min())\n",
    "df_new_scaled['Y house price of unit area'] = df_new['Y house price of unit area']"
   ]
  },
  {
   "cell_type": "markdown",
   "metadata": {},
   "source": [
    "## Fitting a linear regression model"
   ]
  },
  {
   "cell_type": "markdown",
   "metadata": {},
   "source": [
    "**7. Create a linear regression model and fit it to your data.**\n",
    "\n",
    "First, create two variables: `X1` and `y1` whcih contain the input features and target variable, respectively.\n",
    "\n",
    "Next, create linear regression model called `reg1` and fit it on `X1` and `y1`\n",
    "\n",
    "*Hint: use the `sklearn.linear_model import LinearRegression` to perform linear regression.*"
   ]
  },
  {
   "cell_type": "code",
   "execution_count": 14,
   "metadata": {},
   "outputs": [],
   "source": [
    "from sklearn.linear_model import LinearRegression\n",
    "\n",
    "X1 = df_new_scaled[['X2 house age', 'X3 distance to the nearest MRT station', 'X4 number of convenience stores', 'X5 latitude', 'X6 longitude']]\n",
    "y1 = df_new_scaled['Y house price of unit area']\n",
    "reg1 = LinearRegression().fit(X1, y1)"
   ]
  },
  {
   "cell_type": "markdown",
   "metadata": {},
   "source": [
    "**8. Print the value of the $R^2$ coefficient of the fitted linear regression and save it in a variable `reg1_R2`.**\n",
    "\n",
    "The $R^2$ (pronounced \"r-squared\") coefficient is useful to understand how well your model has worked: the closer to 1, the better your model has worked!\n",
    "\n",
    "To calculate the $R^2$, you can use the [`.score()`](https://scikit-learn.org/stable/modules/generated/sklearn.linear_model.LinearRegression.html) method.\n",
    "\n",
    "Store the coefficient in a variable called `reg1_R2`. "
   ]
  },
  {
   "cell_type": "code",
   "execution_count": 15,
   "metadata": {},
   "outputs": [],
   "source": [
    "reg1_R2 = reg1.score(X1, y1)"
   ]
  },
  {
   "cell_type": "markdown",
   "metadata": {},
   "source": [
    "**9. Store the coefficients of the regression model `reg1` in a variable called `coefficients`**\n",
    "\n",
    "Think about what this implies: \n",
    " - Which features have a positive relationship with `Y house price of unit area`? \n",
    " - Which ones are negative?"
   ]
  },
  {
   "cell_type": "code",
   "execution_count": 18,
   "metadata": {},
   "outputs": [],
   "source": [
    "coefficients = reg1.coef_"
   ]
  },
  {
   "cell_type": "markdown",
   "metadata": {},
   "source": [
    "**10. Now create a new linear regression model using only the variables: `X2 house age`, `X5 latitude`,  and `X6 longitude`. Save the model in a variable called `reg2` and fit it to your new data.**\n",
    "\n",
    "Before calling `.fit()` you should create two new dataframes for this new model:\n",
    " - `X2` which contains the input variables of interest\n",
    " - `y2` which contains the target variable"
   ]
  },
  {
   "cell_type": "code",
   "execution_count": 19,
   "metadata": {},
   "outputs": [],
   "source": [
    "X2 = df_new_scaled[['X2 house age', 'X5 latitude', 'X6 longitude']]\n",
    "y2 = df_new_scaled['Y house price of unit area']\n",
    "reg2 = LinearRegression().fit(X2, y2)"
   ]
  },
  {
   "cell_type": "markdown",
   "metadata": {},
   "source": [
    "**11. Now calculate the $R^2$ score for your new model.**\n",
    "\n",
    "Store the score in a variable called `reg2_R2`.\n",
    "\n",
    "Which model works best?"
   ]
  },
  {
   "cell_type": "code",
   "execution_count": 20,
   "metadata": {},
   "outputs": [],
   "source": [
    "reg2_R2 = reg2.score(X2, y2)"
   ]
  },
  {
   "cell_type": "markdown",
   "metadata": {},
   "source": [
    "**12. Divide the dataset into train and test set.**\n",
    "\n",
    "Use the `train_test_split` from the `sklearn.model_selection` package to split the `df_new_scaled` dataframe into $4$ subsets: \n",
    " - `X_train`\n",
    " - `X_test`\n",
    " - `y_train`\n",
    " - `y_test`\n",
    "\n",
    "In doing so, specify the test size to be `0.25` and set the `random_state=101` for reproducibility."
   ]
  },
  {
   "cell_type": "code",
   "execution_count": 21,
   "metadata": {},
   "outputs": [],
   "source": [
    "from sklearn.model_selection import train_test_split\n",
    "\n",
    "X_train, X_test, y_train, y_test = train_test_split(X1, y1, test_size=0.25, random_state=101)"
   ]
  },
  {
   "cell_type": "markdown",
   "metadata": {},
   "source": [
    "**13. Create and fit a linear regression model to the training set, using all of the variables to predict `Y house price of unit area`.**  \n",
    "\n",
    "Assign your model to a variable called `reg3`.\n",
    "\n",
    "*Hint: use the `.fit()` method.*"
   ]
  },
  {
   "cell_type": "code",
   "execution_count": 22,
   "metadata": {},
   "outputs": [],
   "source": [
    "reg3 = LinearRegression().fit(X_train, y_train)"
   ]
  },
  {
   "cell_type": "markdown",
   "metadata": {},
   "source": [
    "**14. Use the model to generate predictions on `X_test`.**\n",
    "\n",
    "Save the predicted variables into a variable called `y_pred` "
   ]
  },
  {
   "cell_type": "code",
   "execution_count": 23,
   "metadata": {},
   "outputs": [],
   "source": [
    "y_pred = reg3.predict(X_test)"
   ]
  },
  {
   "cell_type": "code",
   "execution_count": 20,
   "metadata": {},
   "outputs": [],
   "source": [
    "import pickle\n",
    "pickled = pickle.dumps(y_pred, 0)"
   ]
  },
  {
   "cell_type": "code",
   "execution_count": 21,
   "metadata": {},
   "outputs": [
    {
     "data": {
      "text/plain": [
       "b'cnumpy.core.multiarray\\n_reconstruct\\np0\\n(cnumpy\\nndarray\\np1\\n(I0\\ntp2\\nc_codecs\\nencode\\np3\\n(Vb\\np4\\nVlatin1\\np5\\ntp6\\nRp7\\ntp8\\nRp9\\n(I1\\n(I104\\nI1\\ntp10\\ncnumpy\\ndtype\\np11\\n(Vf8\\np12\\nI00\\nI01\\ntp13\\nRp14\\n(I3\\nV<\\np15\\nNNNI-1\\nI-1\\nI0\\ntp16\\nbI00\\ng3\\n(V\\\\u000aN~\\xc2aH,@&+\\xe6}\\xb3\\xba @\\xba\\x1d3\\x0c\\x8829@\\xde;\\x8b\\x13\\x027H@\\x7f\\x81\\x02&\\xe7\\xc2>@S\\xc6d\\xa4t\\x89B@\\xda\\xe6#+\\xd3\\x04C@\\x80\\x91\\x99I\\x08fD@D\\x0cmj\\xf8PG@\\xfe\\x97\\xcc5\\xca0D@>\\x9ak\\xaf\\x9c\\xf9E@\\xa3\\xed\\xfe\\x88\\xb1\\xa5@@\\xd0!\\xd1\\xad}_C@+\\x14IB)\\xf1B@Xg\\x7fV\\xeeKG@\\x84{\\xb30\\xccyH@\\x9a2hT\\x1c\\\\u000dC@\\x1e\\x9e\\xbf\\xfbp\\x05G@\\x0c\\xf0EV(RI@\\xe1\\xb9\\xda\"\\xc0\\x13H@\\t\\x13\\x8dm\\xda\\x04D@Bs\\xb7\\x02\\xdf\\x9aJ@bf\\xbb\\xd5:\\xa6G@W\\xfd=\\xf6m\\x9bB@\\xc8\\xeek\\xc69{?@\\x96\\x9a\\x01\\xd4\\tSI@\\xa7O\\xd7\\x12\\xc2}C@\\x88\\xb6\\x8bX\\xd5`H@\\xb6\\x81\\x07\\x80\\xc3\\xecF@4\\x11\\xde3wMC@\\x18\\xf2\\x80:_0I@\\xca\\xb9b`\\x1f\\x1dE@\\xf4O\\x8aCC\\xb3E@\\xa43\\x96\\xef\\x1c\\xe2F@\\x8e\\xaf\\x94v\\x96\\x9dF@\\xbc/\\xf2:\\xb1h\\x1b@\\xf7Ju\\xd2\\xe1\\xd0B@\\x9a\\xc9\\xb4\\x8f=vC@$\\xa3b\\xa2a-\\x1b@\\xbc\\xd5\\x10,b\\xa7K@\\xdax\\xc0w\\xc0\\x02?@Z\\x9a\\x8d\\xc1\\xe3\\xdcG@b\\xd0\\xb2\\xc6\\xae\\x847@\\xc1x\\x17<\\x16SH@\\xfb~;\\xb2B\\x98E@\\xc5\\x16F\\xfc\\xa2wI@\\xca\\x8a\\x1c\\x96\\x1dOD@\\xb2$\\x87\\x94\\xa2UB@\\xcaJh\\x19\\xdf\\xa5F@A)\\xd2o\\x08\\x10B@\\x1cZ\\xe8\\x999\\x94G@\\x02\\xca?A\\xce\\xf8A@\\x10\\xe5,\\x87\\xe1\\x06E@\\x9aG\\xe8\\x18\\xe7\\xf7+@|\\x8fQ@-NC@\\xd4p|7\\xc7\\xfaG@\\x153<\\x0bR\\x9fE@\\xa6?\\x8fY\\xaf\\x11G@p\\x9e]p=\\xecE@p\\xf1\\xa0\\xc8\\x9b*D@\\xae\\x17\\xc6\\x88\\x8a]@@\\xcd-G\\x0b\\xf7\\x0fF@l\\xcf\\xc7s\\\\u0000\\x12E@\\xda\\x0e5q|=E@\\xec\\xf7\\xbf\\x7f\\xb0UJ@\\xee?\\xf7\\x90\\x1dhE@\\xee@\\xe2\\xda\\xd3\\xca8@\\x0c\\x9e\\x02\\xb2KhH@\\x9e\\xd6\\xf3\\x85h\\x83>@j\\\\u000a\\\\u005c\\xb7`\\x98C@\\xdd0\\xc1\\xe2\\x1b\\\\u000dF@\\xf0\\x99\\xc6s\\x97\\x99H@\\x0e\\x95\\x8d\\x18\\xda.+@\\xd7\\\\u000d\\x1fW\\x92@A@>\\x84\\x07\\xec\\xcf,,@\\\\u001a\\\\u0000\\xc5\\xb6\\x90\\xeeE@]\\xaa\\xdf+\\'k@@\\xc80\\xa1\\x98\\xbcJF@^\\xc7\\\\u005c@XRE@\\xf6\\x87\\\\u000d\\x0b\\\\u0000-%@\\x08z5\\xa0\\x05\\x16G@\\xb9\\xb8\\x1f*]4B@\\x10\\xe5,\\x87\\xe1\\x06E@q\\x94\\xb2\\x89v\"=@\\xf4\\x83\\xb4\\xb6Q]J@`\\x9a\\xf0\\\\u000dt$,@\\x0e\\x15\\x96]\\xdd<A@\\\\u000d\\xaf\\x98\\xf9\\xae\\x10@@\\xc1\\xfd}\\x8d\\x06rC@z\\xc9\\x0f\\x82\\xbe\\xf0*@\\xd2\\xb9\\xeb6\\x8a\\x90G@\\xe4\\xbe\\xa0\\xec\\xfc\\xa9@@H\\x84\\xcaO\\xd4\\xb3F@\\x9a\\xd5\\xcb\\xa6\\xc7\\x9c7@\\xda]\\xe3\\xbdR\\xd0@@\\xc3+J\\x19\\xfa\\xe1>@\\x88g\\xc9.\\xac\\x9e9@4\\xe8\\x19J\\x81cG@\\xa8xd\\x11)\\x03=@\\xe4\\xb7\\xcf\\xbb_\\xc9B@\\x8eE\\xb2\\x10\\x05\\x11H@\\\\u000a\\xf3\\xbcz(z=@9\\x11\\xdaT\\x8faC@;\\xf1\\x9dB\\xd5\\xabC@\\np17\\ng5\\ntp18\\nRp19\\ntp20\\nb.'"
      ]
     },
     "execution_count": 21,
     "metadata": {},
     "output_type": "execute_result"
    }
   ],
   "source": [
    "pickled"
   ]
  },
  {
   "cell_type": "markdown",
   "metadata": {},
   "source": [
    "Once you have generated these predictions, uncomment the cell below to check out the accuracy score of your model. \n",
    "\n",
    "Think about what this metric [means](https://scikit-learn.org/stable/modules/generated/sklearn.metrics.mean_squared_error.html). \n",
    "  - Is this a good model? \n",
    "  - Is mean squared error a good metric? \n",
    "  - How does this compare to $R^2$?"
   ]
  },
  {
   "cell_type": "code",
   "execution_count": 24,
   "metadata": {},
   "outputs": [
    {
     "data": {
      "text/plain": [
       "44.176481796337306"
      ]
     },
     "execution_count": 24,
     "metadata": {},
     "output_type": "execute_result"
    }
   ],
   "source": [
    "from sklearn.metrics import mean_squared_error\n",
    "\n",
    "mean_squared_error(y_pred, y_test)"
   ]
  }
 ],
 "metadata": {
  "kernelspec": {
   "display_name": "Python 3 (ipykernel)",
   "language": "python",
   "name": "python3"
  },
  "language_info": {
   "codemirror_mode": {
    "name": "ipython",
    "version": 3
   },
   "file_extension": ".py",
   "mimetype": "text/x-python",
   "name": "python",
   "nbconvert_exporter": "python",
   "pygments_lexer": "ipython3",
   "version": "3.10.11"
  }
 },
 "nbformat": 4,
 "nbformat_minor": 4
}
