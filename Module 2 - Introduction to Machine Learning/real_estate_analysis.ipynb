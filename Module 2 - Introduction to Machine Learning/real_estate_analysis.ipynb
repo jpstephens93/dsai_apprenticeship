{
 "cells": [
  {
   "cell_type": "markdown",
   "metadata": {},
   "source": [
    "# Real Estate Price Analysis\n",
    "\n",
    "The real estate dataset used in this assignment contains historical data from certain real estate markets between June 2012 and May 2013. \n",
    "\n",
    "It is related to two districts in Taipei City and two districts in New Taipei City. \n",
    "\n",
    "<br>\n",
    "\n",
    "The dataset is composed of 414 records of property sales and the features describe certain aspects of the properties sold. This data is sourced from the UCI machine learning webpage, where this another other datasets are [publicly accessible](https://archive.ics.uci.edu/ml/datasets/Real+estate+valuation+data+set)\n",
    "\n",
    "The following table provides a summary of each feature in the dataset: "
   ]
  },
  {
   "cell_type": "markdown",
   "metadata": {},
   "source": [
    "KATE expects your code to define variables with specific names that correspond to certain things we are interested in.\n",
    "\n",
    "KATE will run your notebook from top to bottom and check the latest value of those variables, so make sure you don't overwrite them.\n",
    "\n",
    "* Remember to uncomment the line assigning the variable to your answer and don't change the variable or function names.\n",
    "* Use copies of the original or previous DataFrames to make sure you do not overwrite them by mistake.\n",
    "\n",
    "You will find instructions below about how to define each variable.\n",
    "\n",
    "Once you're happy with your code, upload your notebook to KATE to check your feedback."
   ]
  },
  {
   "cell_type": "markdown",
   "metadata": {},
   "source": [
    "\n",
    "| Variable  | Meaning | Type |\n",
    "| ------------- | ------------- | ------------- |\n",
    "| X1 Transaction Date|  Month in which the transaction has happened starting counting from the first month of the dataset |  for example 2013.250=2013 March |\n",
    "| X2 house age | The house age  | Unit (year) |\n",
    "| X3 distance to the nearest MRT station | The distance to the nearet MRT station | Numerical (meters) |\n",
    "| X4 number of convenience stores | The number of convenience stores in the living circle on foot | Numerical (integer) | \n",
    "| X5 latitude | The geographic coordinate, latitude | numerical (degree)| \n",
    "| X6 longitude | The geographic coordinate, longitude | numerical (degree) | \n",
    "| Y house price of unit area | Output variable, house price of unit area | numerical (10000 New Taiwan Dolla/Ping, where Ping is a local unit, 1 Ping = 3.3 meter squared)"
   ]
  },
  {
   "cell_type": "markdown",
   "metadata": {},
   "source": [
    "Having inspected what the features mean, let's begin by importing the libaries needed for this assignment:"
   ]
  },
  {
   "cell_type": "code",
   "execution_count": null,
   "metadata": {},
   "outputs": [],
   "source": [
    "import pandas as pd\n",
    "import seaborn as sns \n",
    "import matplotlib.pyplot as plt"
   ]
  },
  {
   "cell_type": "markdown",
   "metadata": {},
   "source": [
    "## Load the dataset\n",
    "\n",
    "With these libaries, in particular `pandas`, let's load the `real_estate_valuation_data_set.csv` file, which is located in a folder called `data`, into a DataFrame named `df` using the following code:"
   ]
  },
  {
   "cell_type": "code",
   "execution_count": null,
   "metadata": {},
   "outputs": [],
   "source": [
    "df = pd.read_csv('data/real_estate_valuation_data_set.csv')\n",
    "df.head()"
   ]
  },
  {
   "cell_type": "markdown",
   "metadata": {},
   "source": [
    "## Dataset Preprocessing \n",
    "\n",
    "Before proceeding to the analysis, let's first do some preprocessing to clean our data and get a better sense of what it looks like.\n",
    "\n",
    "<br>\n",
    "\n",
    "**1. Print the format of your dataframe (number of rows, columns) and, store whether or not the dataframe contains any missing values in a variable called `values_missing`.**\n",
    "\n",
    "Note that `values_missing` should be a Boolean.\n",
    "\n",
    "*Hint: you can use two `pandas` methods, [`.isna()`](https://pandas.pydata.org/pandas-docs/stable/reference/api/pandas.DataFrame.isna.html) and [`.any()`](https://pandas.pydata.org/pandas-docs/stable/reference/api/pandas.DataFrame.any.html) applied to your dataframe to get this information.*"
   ]
  },
  {
   "cell_type": "code",
   "execution_count": null,
   "metadata": {},
   "outputs": [],
   "source": [
    "# Your code here \n",
    "# df.info()\n",
    "# values_missing = ...\n"
   ]
  },
  {
   "cell_type": "markdown",
   "metadata": {},
   "source": [
    "**2. Remove the first column `X1 transaction date`from the dataset and save the newly created dataset into a new variable `df_new`.**\n",
    "\n",
    "You should also use the `.copy()` method when creating `df_new`."
   ]
  },
  {
   "cell_type": "code",
   "execution_count": null,
   "metadata": {},
   "outputs": [],
   "source": [
    "# Your code here\n",
    "# df_new = ...\n"
   ]
  },
  {
   "cell_type": "markdown",
   "metadata": {},
   "source": [
    "**3.  Plot a histogram of the target variable `Y house price of unit area`.**\n",
    "\n",
    "This is an important preliminary step to help us understand the distribution of the target variable. For example you can see if it resembles a normal distribution, or if it is skewed in some way, and adjust your model accordingly.\n",
    "\n",
    "Assign the output to a variable called `hist_y`.\n",
    "\n",
    "*Hint: use the `.hist()` method on a `pandas` `Series`*"
   ]
  },
  {
   "cell_type": "code",
   "execution_count": null,
   "metadata": {},
   "outputs": [],
   "source": [
    "# We create a new figure to make sure other figures in the notebook don't get modified\n",
    "plt.figure()\n",
    "\n",
    "# Your code here\n",
    "# hist_y = ...\n"
   ]
  },
  {
   "cell_type": "markdown",
   "metadata": {},
   "source": [
    "**4. Plot histograms of all of the remaining input variables in your dataframe.**\n",
    "\n",
    "Note that we have already dropped the `X1 transaction date` variable, which leaves us with five variables (`X2` through `X6`).\n",
    "\n",
    "<br>\n",
    "\n",
    "To create these plots:\n",
    "  - Use the `fig, ax = plt.subplots(figsize=(10,25), dpi=50)` to create your figure and axes\n",
    "  - Filter down `df_new` to the relevant columns and call `.hist()` passing in:\n",
    "     - `ax=ax`\n",
    "     - `layout=(5,1)`\n",
    "     - and the column names, ordered from `X2` to `X6`\n",
    "\n",
    "Assign the output of `.hist()` to a variable called `hist_per_input`."
   ]
  },
  {
   "cell_type": "code",
   "execution_count": null,
   "metadata": {},
   "outputs": [],
   "source": [
    "# We create a new figure to make sure other figures in the notebook don't get modified\n",
    "plt.figure()\n",
    "\n",
    "# Your code here\n",
    "# hist_per_input = ...\n"
   ]
  },
  {
   "cell_type": "markdown",
   "metadata": {},
   "source": [
    "**5. Obtain the mean and median of the variable outcome `Y house price of unit area`.**\n",
    "\n",
    "Store the results in variables called `mean` and `median`. \n"
   ]
  },
  {
   "cell_type": "code",
   "execution_count": null,
   "metadata": {},
   "outputs": [],
   "source": [
    "# Your code here\n",
    "# house_price_mean = ...\n",
    "# house_price_median = ...\n"
   ]
  },
  {
   "cell_type": "markdown",
   "metadata": {},
   "source": [
    "**6. Scale all the dataframe columns but `Y house price of unit area`, that is our output. For scaling use the min-max normalization. Save the newly scaled dataframe into a new dataframe named `df_new_scaled`.**\n",
    "\n",
    "The min max scaling formula (considering you want to scale between 0 and 1) is as follows: \n",
    "\n",
    "```Python\n",
    "df_new_scaled = (originalDataframe - min_val_originalDF) / (max_val_originalDF - min_val_originalDF) \n",
    "```"
   ]
  },
  {
   "cell_type": "code",
   "execution_count": null,
   "metadata": {},
   "outputs": [],
   "source": [
    "# Your code here\n",
    "# df_new_scaled = ...\n"
   ]
  },
  {
   "cell_type": "markdown",
   "metadata": {},
   "source": [
    "## Fitting a linear regression model"
   ]
  },
  {
   "cell_type": "markdown",
   "metadata": {},
   "source": [
    "**7. Create a linear regression model and fit it to your data.**\n",
    "\n",
    "First, create two variables: `X1` and `y1` whcih contain the input features and target variable, respectively.\n",
    "\n",
    "Next, create linear regression model called `reg1` and fit it on `X1` and `y1`\n",
    "\n",
    "*Hint: use the `sklearn.linear_model import LinearRegression` to perform linear regression.*"
   ]
  },
  {
   "cell_type": "code",
   "execution_count": null,
   "metadata": {},
   "outputs": [],
   "source": [
    "# Your code here\n",
    "# X1 = ...\n",
    "# y1 = ...\n",
    "# reg1 = ...\n"
   ]
  },
  {
   "cell_type": "markdown",
   "metadata": {},
   "source": [
    "**8. Print the value of the $R^2$ coefficient of the fitted linear regression and save it in a variable `reg1_R2`.**\n",
    "\n",
    "The $R^2$ (pronounced \"r-squared\") coefficient is useful to understand how well your model has worked: the closer to 1, the better your model has worked!\n",
    "\n",
    "To calculate the $R^2$, you can use the [`.score()`](https://scikit-learn.org/stable/modules/generated/sklearn.linear_model.LinearRegression.html) method.\n",
    "\n",
    "Store the coefficient in a variable called `reg1_R2`. "
   ]
  },
  {
   "cell_type": "code",
   "execution_count": null,
   "metadata": {},
   "outputs": [],
   "source": [
    "# Your code here\n",
    "# reg1_R2 = ...\n"
   ]
  },
  {
   "cell_type": "markdown",
   "metadata": {},
   "source": [
    "**9. Store the coefficients of the regression model `reg1` in a variable called `coefficients`**\n",
    "\n",
    "Think about what this implies: \n",
    " - Which features have a positive relationship with `Y house price of unit area`? \n",
    " - Which ones are negative?"
   ]
  },
  {
   "cell_type": "code",
   "execution_count": null,
   "metadata": {},
   "outputs": [],
   "source": [
    "# Your code here\n",
    "# coefficients = ...\n"
   ]
  },
  {
   "cell_type": "markdown",
   "metadata": {},
   "source": [
    "**10. Now create a new linear regression model using only the variables: `X2 house age`, `X5 latitude`,  and `X6 longitude`. Save the model in a variable called `reg2` and fit it to your new data.**\n",
    "\n",
    "Before calling `.fit()` you should create two new dataframes for this new model:\n",
    " - `X2` which contains the input variables of interest\n",
    " - `y2` which contains the target variable"
   ]
  },
  {
   "cell_type": "code",
   "execution_count": null,
   "metadata": {},
   "outputs": [],
   "source": [
    "# Your code here\n",
    "# X2 = ...\n",
    "# y2 = ...\n",
    "# reg2 = ...\n"
   ]
  },
  {
   "cell_type": "markdown",
   "metadata": {},
   "source": [
    "**11. Now calculate the $R^2$ score for your new model.**\n",
    "\n",
    "Store the score in a variable called `reg2_R2`.\n",
    "\n",
    "Which model works best?"
   ]
  },
  {
   "cell_type": "code",
   "execution_count": null,
   "metadata": {},
   "outputs": [],
   "source": [
    "# Your code here\n",
    "# reg2_R2 = ...\n"
   ]
  },
  {
   "cell_type": "markdown",
   "metadata": {},
   "source": [
    "**12. Divide the dataset into train and test set.**\n",
    "\n",
    "Use the `train_test_split` from the `sklearn.model_selection` package to split the `df_new_scaled` dataframe into $4$ subsets: \n",
    " - `X_train`\n",
    " - `X_test`\n",
    " - `y_train`\n",
    " - `y_test`\n",
    "\n",
    "In doing so, specify the test size to be `0.25` and set the `random_state=101` for reproducibility."
   ]
  },
  {
   "cell_type": "code",
   "execution_count": null,
   "metadata": {},
   "outputs": [],
   "source": [
    "# X_train, X_test, y_train, y_test = ...\n"
   ]
  },
  {
   "cell_type": "markdown",
   "metadata": {},
   "source": [
    "**13. Create and fit a linear regression model to the training set, using all of the variables to predict `Y house price of unit area`.**  \n",
    "\n",
    "Assign your model to a variable called `reg3`.\n",
    "\n",
    "*Hint: use the `.fit()` method.*"
   ]
  },
  {
   "cell_type": "code",
   "execution_count": null,
   "metadata": {},
   "outputs": [],
   "source": [
    "# Your code here\n",
    "# reg3 = ...\n"
   ]
  },
  {
   "cell_type": "markdown",
   "metadata": {},
   "source": [
    "**14. Use the model to generate predictions on `X_test`.**\n",
    "\n",
    "Save the predicted variables into a variable called `y_pred` "
   ]
  },
  {
   "cell_type": "code",
   "execution_count": null,
   "metadata": {},
   "outputs": [],
   "source": [
    "# Your code here\n",
    "# y_pred = ...\n"
   ]
  },
  {
   "cell_type": "code",
   "execution_count": null,
   "metadata": {},
   "outputs": [],
   "source": [
    "import pickle\n",
    "pickled = pickle.dumps(y_pred, 0)"
   ]
  },
  {
   "cell_type": "code",
   "execution_count": null,
   "metadata": {},
   "outputs": [],
   "source": [
    "pickled"
   ]
  },
  {
   "cell_type": "markdown",
   "metadata": {},
   "source": [
    "Once you have generated these predictions, uncomment the cell below to check out the accuracy score of your model. \n",
    "\n",
    "Think about what this metric [means](https://scikit-learn.org/stable/modules/generated/sklearn.metrics.mean_squared_error.html). \n",
    "  - Is this a good model? \n",
    "  - Is mean squared error a good metric? \n",
    "  - How does this compare to $R^2$?"
   ]
  },
  {
   "cell_type": "code",
   "execution_count": null,
   "metadata": {},
   "outputs": [],
   "source": [
    "#from sklearn.metrics import mean_squared_error\n",
    "#mean_squared_error(y_pred, y_test)"
   ]
  }
 ],
 "metadata": {
  "kernelspec": {
   "display_name": "Python 3 (ipykernel)",
   "language": "python",
   "name": "python3"
  },
  "language_info": {
   "codemirror_mode": {
    "name": "ipython",
    "version": 3
   },
   "file_extension": ".py",
   "mimetype": "text/x-python",
   "name": "python",
   "nbconvert_exporter": "python",
   "pygments_lexer": "ipython3",
   "version": "3.9.7"
  }
 },
 "nbformat": 4,
 "nbformat_minor": 2
}
