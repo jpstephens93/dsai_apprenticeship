{
 "cells": [
  {
   "cell_type": "markdown",
   "metadata": {},
   "source": [
    "# FTSE Market Summary & Portfolio Analysis"
   ]
  },
  {
   "cell_type": "markdown",
   "metadata": {},
   "source": [
    "KATE expects your code to define variables with specific names that correspond to certain things we are interested in.\n",
    "\n",
    "KATE will run your notebook from top to bottom and check the latest value of those variables, so make sure you don't overwrite them.\n",
    "\n",
    "* Remember to uncomment the line assigning the variable to your answer and don't change the variable or function names.\n",
    "* Use copies of the original or previous DataFrames to make sure you do not overwrite them by mistake.\n",
    "\n",
    "You will find instructions below about how to define each variable.\n",
    "\n",
    "Once you're happy with your code, upload your notebook to KATE to check your feedback."
   ]
  },
  {
   "cell_type": "markdown",
   "metadata": {},
   "source": [
    "## About the Dataset\n",
    "\n",
    "In the following section, you will be analysing **The Financial Times Stock Exchange 100 (FTSE 100) Index** data, pronounced, the 'Footsie hundred', is a share index of the 100 companies listed on the London Stock Exchange with the highest market capitalisation. \n",
    "\n",
    "\n",
    "The dataset includes information about:\n",
    "\n",
    "- Company - Name of  the publicly traded company\n",
    "\n",
    "- Ticker - A ticker or stock symbol is an abbreviation used to uniquely identify a stock on a particular stock market\n",
    "\n",
    "- Sector - Industry in which the company operates in\n",
    "\n",
    "- Mid-price (p) - Average between the 'buying' and the 'selling' price of a particular stock\n",
    "\n",
    "- Change - Difference between the current price and the previous day's market price of a particular stock\n",
    "    - A positive change is what allows investors to make a profit.\n",
    "\n",
    "- Our view - View of the analyst or the brokerage firm collected this data\n",
    "\n",
    "- Brokers - Total number of brokerage firms tracking and analysing the stock\n",
    "\n",
    "- 'Strong Buy', 'Buy', 'Neutral', 'Sell', 'Strong Sell' - columns indicates the weighted verdict of all Brokers \n",
    "\n",
    "- Recommendation - Final verdict or recommendation for the stock\n",
    "    - Overweight/Outperform means \"buy\", investors should assign a higher weighting to the stock in portfolios or funds \n",
    "    - Underweight/Underperform means \"sell\" or \"don't buy\" recommendation for a specific stock"
   ]
  },
  {
   "cell_type": "markdown",
   "metadata": {},
   "source": [
    "## Importing Pandas Library"
   ]
  },
  {
   "cell_type": "markdown",
   "metadata": {},
   "source": [
    "Make sure you run the following code cell import Pandas Library before you attempt any of the questions"
   ]
  },
  {
   "cell_type": "code",
   "execution_count": 1,
   "metadata": {
    "inputHidden": false,
    "outputHidden": false
   },
   "outputs": [],
   "source": [
    "import pandas as pd"
   ]
  },
  {
   "cell_type": "markdown",
   "metadata": {},
   "source": [
    "## Importing the dataset"
   ]
  },
  {
   "cell_type": "markdown",
   "metadata": {},
   "source": [
    "First use the `.read_csv()` function to import the file `FTSE100.csv` from the `data` folder, assigning it to `df` DataFrame. \n",
    "\n",
    "After using the `.head()` method to look at the first five rows of the `df` DataFrame. Also, consider using `.info()` method to further explore your data."
   ]
  },
  {
   "cell_type": "code",
   "execution_count": 2,
   "metadata": {},
   "outputs": [
    {
     "data": {
      "text/html": [
       "<div>\n",
       "<style scoped>\n",
       "    .dataframe tbody tr th:only-of-type {\n",
       "        vertical-align: middle;\n",
       "    }\n",
       "\n",
       "    .dataframe tbody tr th {\n",
       "        vertical-align: top;\n",
       "    }\n",
       "\n",
       "    .dataframe thead th {\n",
       "        text-align: right;\n",
       "    }\n",
       "</style>\n",
       "<table border=\"1\" class=\"dataframe\">\n",
       "  <thead>\n",
       "    <tr style=\"text-align: right;\">\n",
       "      <th></th>\n",
       "      <th>Company</th>\n",
       "      <th>Ticker</th>\n",
       "      <th>Sector</th>\n",
       "      <th>Mid-price (p)</th>\n",
       "      <th>Change</th>\n",
       "      <th>Our view</th>\n",
       "      <th>Brokers</th>\n",
       "      <th>Strong Buy</th>\n",
       "      <th>Buy</th>\n",
       "      <th>Neutral</th>\n",
       "      <th>Sell</th>\n",
       "      <th>Strong Sell</th>\n",
       "      <th>Recommendation</th>\n",
       "    </tr>\n",
       "  </thead>\n",
       "  <tbody>\n",
       "    <tr>\n",
       "      <th>0</th>\n",
       "      <td>3i</td>\n",
       "      <td>III</td>\n",
       "      <td>Financial Services</td>\n",
       "      <td>1,099.50</td>\n",
       "      <td>0.0171</td>\n",
       "      <td>Hold</td>\n",
       "      <td>5</td>\n",
       "      <td>NaN</td>\n",
       "      <td>4</td>\n",
       "      <td>1</td>\n",
       "      <td>0</td>\n",
       "      <td>0</td>\n",
       "      <td>Buy</td>\n",
       "    </tr>\n",
       "    <tr>\n",
       "      <th>1</th>\n",
       "      <td>Admiral Group</td>\n",
       "      <td>ADM</td>\n",
       "      <td>Nonlife Insurance</td>\n",
       "      <td>2,115.00</td>\n",
       "      <td>-0.42%</td>\n",
       "      <td>Hold</td>\n",
       "      <td>18</td>\n",
       "      <td>NaN</td>\n",
       "      <td>2</td>\n",
       "      <td>6</td>\n",
       "      <td>7</td>\n",
       "      <td>3</td>\n",
       "      <td>Underweight</td>\n",
       "    </tr>\n",
       "    <tr>\n",
       "      <th>2</th>\n",
       "      <td>Anglo American plc</td>\n",
       "      <td>AAL</td>\n",
       "      <td>Mining</td>\n",
       "      <td>1,744.00</td>\n",
       "      <td>0.0154</td>\n",
       "      <td>Hold</td>\n",
       "      <td>24</td>\n",
       "      <td>NaN</td>\n",
       "      <td>15</td>\n",
       "      <td>6</td>\n",
       "      <td>2</td>\n",
       "      <td>0</td>\n",
       "      <td>Buy</td>\n",
       "    </tr>\n",
       "    <tr>\n",
       "      <th>3</th>\n",
       "      <td>Antofagasta</td>\n",
       "      <td>ANTO</td>\n",
       "      <td>Mining</td>\n",
       "      <td>848.2</td>\n",
       "      <td>0.0326</td>\n",
       "      <td>Hold</td>\n",
       "      <td>21</td>\n",
       "      <td>NaN</td>\n",
       "      <td>8</td>\n",
       "      <td>9</td>\n",
       "      <td>3</td>\n",
       "      <td>0</td>\n",
       "      <td>Overweight</td>\n",
       "    </tr>\n",
       "    <tr>\n",
       "      <th>4</th>\n",
       "      <td>Ashtead Group</td>\n",
       "      <td>AHT</td>\n",
       "      <td>Support Services</td>\n",
       "      <td>2,207.00</td>\n",
       "      <td>0.0347</td>\n",
       "      <td>Buy</td>\n",
       "      <td>17</td>\n",
       "      <td>NaN</td>\n",
       "      <td>12</td>\n",
       "      <td>5</td>\n",
       "      <td>0</td>\n",
       "      <td>0</td>\n",
       "      <td>Buy</td>\n",
       "    </tr>\n",
       "  </tbody>\n",
       "</table>\n",
       "</div>"
      ],
      "text/plain": [
       "              Company Ticker              Sector Mid-price (p)  Change  \\\n",
       "0                  3i    III  Financial Services      1,099.50  0.0171   \n",
       "1       Admiral Group    ADM   Nonlife Insurance      2,115.00  -0.42%   \n",
       "2  Anglo American plc    AAL              Mining      1,744.00  0.0154   \n",
       "3         Antofagasta   ANTO              Mining         848.2  0.0326   \n",
       "4       Ashtead Group    AHT    Support Services      2,207.00  0.0347   \n",
       "\n",
       "  Our view  Brokers  Strong Buy  Buy  Neutral  Sell  Strong Sell  \\\n",
       "0     Hold        5         NaN    4        1     0            0   \n",
       "1     Hold       18         NaN    2        6     7            3   \n",
       "2     Hold       24         NaN   15        6     2            0   \n",
       "3     Hold       21         NaN    8        9     3            0   \n",
       "4      Buy       17         NaN   12        5     0            0   \n",
       "\n",
       "  Recommendation  \n",
       "0            Buy  \n",
       "1    Underweight  \n",
       "2            Buy  \n",
       "3     Overweight  \n",
       "4            Buy  "
      ]
     },
     "execution_count": 2,
     "metadata": {},
     "output_type": "execute_result"
    }
   ],
   "source": [
    "df = pd.read_csv('data/FTSE100.csv')\n",
    "df.head()"
   ]
  },
  {
   "cell_type": "code",
   "execution_count": 3,
   "metadata": {},
   "outputs": [
    {
     "name": "stdout",
     "output_type": "stream",
     "text": [
      "<class 'pandas.core.frame.DataFrame'>\n",
      "RangeIndex: 101 entries, 0 to 100\n",
      "Data columns (total 13 columns):\n",
      " #   Column          Non-Null Count  Dtype  \n",
      "---  ------          --------------  -----  \n",
      " 0   Company         101 non-null    object \n",
      " 1   Ticker          101 non-null    object \n",
      " 2   Sector          101 non-null    object \n",
      " 3   Mid-price (p)   101 non-null    object \n",
      " 4   Change          101 non-null    object \n",
      " 5   Our view        101 non-null    object \n",
      " 6   Brokers         101 non-null    int64  \n",
      " 7   Strong Buy      0 non-null      float64\n",
      " 8   Buy             101 non-null    int64  \n",
      " 9   Neutral         101 non-null    int64  \n",
      " 10  Sell            101 non-null    int64  \n",
      " 11  Strong Sell     101 non-null    int64  \n",
      " 12  Recommendation  101 non-null    object \n",
      "dtypes: float64(1), int64(5), object(7)\n",
      "memory usage: 10.4+ KB\n"
     ]
    }
   ],
   "source": [
    "df.info()"
   ]
  },
  {
   "cell_type": "markdown",
   "metadata": {},
   "source": [
    "## 1. Tidy Data\n",
    "\n",
    "\n",
    "The dataset has a column with only `n/a` values, and also 101 rows (you may have been expecting 100!). This is because one of the companies (Royal Dutch Shell) has two entries. We can get rid of the first instance of these (RDSA).\n",
    "\n",
    "Starting from a copy of `df`, create a new DataFrame called `clean_df` with the following changes:\n",
    "- Drop the row with a `Ticker` value of `RDSA`\n",
    "- Drop the `Strong Buy` column"
   ]
  },
  {
   "cell_type": "code",
   "execution_count": 4,
   "metadata": {
    "inputHidden": false,
    "outputHidden": false
   },
   "outputs": [],
   "source": [
    "#add your code below\n",
    "\n",
    "#Make sure you call your new DataFrame clean_df\n",
    "df_clean = df.copy()\n",
    "\n",
    "mask = df_clean['Ticker'] == 'RDSA'\n",
    "rdsa_index = df_clean[mask].index\n",
    "\n",
    "df_clean.drop(rdsa_index, inplace=True)\n",
    "df_clean.drop(columns='Strong Buy', inplace=True)"
   ]
  },
  {
   "cell_type": "markdown",
   "metadata": {},
   "source": [
    "## 2. Change Column Data Type\n",
    "\n",
    "Look at the values in the `Mid-price (p)` column. At first glance they may look like floats but in fact they have been interpreted as text. We need to change them to floats for them to be more useful.\n",
    "\n",
    "Starting from a copy of `clean_df`, create a new DataFrame called  `price_df` with the following change:\n",
    "\n",
    "- Convert the values in the `Mid-price (p)` column to floats (keeping the column in the same place)\n",
    "\n",
    "*Hint: converting directly to a float may not work if there are commas in the strings; you may find the [str.replace](https://docs.python.org/3/library/stdtypes.html#str.replace) method useful for fixing this before conversion.*"
   ]
  },
  {
   "cell_type": "code",
   "execution_count": 5,
   "metadata": {},
   "outputs": [],
   "source": [
    "#add your code below\n",
    "\n",
    "#Make sure you call your new DataFrame price_df\n",
    "price_df = df_clean.copy()\n",
    "price_df['Mid-price (p)'] = price_df['Mid-price (p)'].str.replace(',', '').astype(float)\n"
   ]
  },
  {
   "cell_type": "markdown",
   "metadata": {},
   "source": [
    "## 3. Format Change Values\n",
    "\n",
    "Take a look at the values in the `Change` column. You'll see that they are in an inconsistent format, and stored as strings. The positive values need to be multiplied by 100. The negative values need to have the `%` sign removed.\n",
    "\n",
    "**Part 1:** Create a function called `format_change` which takes a string such as those in the `Change` column and does the following:\n",
    "1. If the last character is a % sign, remove it \n",
    "2. Convert the string to a float\n",
    "3. If that float is posiive, multiply it by 100\n",
    "4. Return the resulting float\n",
    "\n",
    "*Hint: to convert string to a float you may find [float()](https://www.w3schools.com/python/ref_func_float.asp) function useful*"
   ]
  },
  {
   "cell_type": "code",
   "execution_count": 8,
   "metadata": {},
   "outputs": [],
   "source": [
    "#add your code below\n",
    "def format_change(string):\n",
    "    if string[-1] == '%':\n",
    "        return float(string[:-1])\n",
    "    else:\n",
    "        return float(string) * 100\n"
   ]
  },
  {
   "cell_type": "markdown",
   "metadata": {},
   "source": [
    "Uncomment and run the following code cell to test that your function works as expected:"
   ]
  },
  {
   "cell_type": "code",
   "execution_count": 9,
   "metadata": {},
   "outputs": [
    {
     "data": {
      "text/plain": [
       "0.45"
      ]
     },
     "execution_count": 9,
     "metadata": {},
     "output_type": "execute_result"
    }
   ],
   "source": [
    "format_change('0.45%')"
   ]
  },
  {
   "cell_type": "markdown",
   "metadata": {},
   "source": [
    "**Part 2:** Starting from a copy of `price_df`, create a new DataFrame called  `change_df` with a new column called `Change (%)`:\n",
    "\n",
    "- This should contain the result returned from the function created above when given the original `Change` column value as the argument\n",
    "  "
   ]
  },
  {
   "cell_type": "code",
   "execution_count": 10,
   "metadata": {
    "inputHidden": false,
    "outputHidden": false
   },
   "outputs": [],
   "source": [
    "#add your code below\n",
    "\n",
    "#Make sure you call your new DataFrame change_df\n",
    "change_df = price_df.copy()\n",
    "change_df['Change (%)'] = change_df['Change'].apply(format_change)\n"
   ]
  },
  {
   "cell_type": "markdown",
   "metadata": {},
   "source": [
    "## 4. Holding Summary\n",
    "\n",
    "You are given the details of a share holding in a tuple, containing the company ticker code, number of shares, and price paid. Make sure you run the following code cell before attempting the question."
   ]
  },
  {
   "cell_type": "code",
   "execution_count": 11,
   "metadata": {},
   "outputs": [
    {
     "name": "stdout",
     "output_type": "stream",
     "text": [
      "BP.\n",
      "500\n",
      "1535.21\n"
     ]
    }
   ],
   "source": [
    "holding = ('BP.', 500, 1535.21)\n",
    "\n",
    "print(holding[0])\n",
    "print(holding[1])\n",
    "print(holding[2])"
   ]
  },
  {
   "cell_type": "markdown",
   "metadata": {},
   "source": [
    "Starting from the `holding` above and `change_df`, build a new dictionary containing the following keys and the appropriate values in the given data formats.\n",
    "\n",
    "```\n",
    "{    \n",
    "    holding_cost: float,    \n",
    "    # The cost (in £, not pence) of the holding (number of shares * price paid)\n",
    "    holding_value: float,    \n",
    "    # The value (in £, not pence) of the holding (number of shares * current mid-price) \n",
    "    change_in_value: float,    \n",
    "    # The percentage change from the original cost of the holding to the current value  \n",
    "    (e.g. if the holding_value is 1.2 * the holding_cost, the change_in_value should equal 20.0)\n",
    "    \n",
    "}\n",
    "```\n",
    "\n",
    "Call this dictionary `holding_dict`\n",
    "\n",
    "\n",
    "*Hint: If you want to get the first item in a series of values (such as a column of a filtered DataFrame), you can use* `.values[0]` *on the column*"
   ]
  },
  {
   "cell_type": "code",
   "execution_count": 12,
   "metadata": {},
   "outputs": [],
   "source": [
    "#add your code below\n",
    "\n",
    "#Make sure you call your new dictionary holding_dict\n",
    "holding_dict = {\n",
    "    'holding_cost': holding[1] * holding[2],\n",
    "    'holding_value': holding[1] * change_df[change_df['Ticker'] == holding[0]]['Mid-price (p)'].values[0],\n",
    "    'change_in_value': 100 * ((\n",
    "        (holding[1] * change_df[change_df['Ticker'] == holding[0]]['Mid-price (p)'].values[0]) / (holding[1] * holding[2])\n",
    "    ) - 1)\n",
    "}\n"
   ]
  },
  {
   "cell_type": "markdown",
   "metadata": {},
   "source": [
    "## 5. Market Comparison\n",
    "\n",
    "Provided with the DataFrame you processed above, `change_df`, we would like to compare the % change in the mid-price for each company to the average % change for all companies in the market, along with a summary of the broker recommendations."
   ]
  },
  {
   "cell_type": "markdown",
   "metadata": {},
   "source": [
    "Create a DataFrame called `comparison_df` with the following columns added to a copy of `change_df`: \n",
    "\n",
    "- **'Beat Market'** - This should be a Boolean column with `True` for stocks where `Change (%)` exceeds that of the average market change\n",
    "- **'Buy Ratio'** - This should equal the `Buy` column divided by the `Brokers` column\n",
    "\n",
    "*Hint: Calculate the average market change % first then compare each value in the `Change (%)` column to that when creating the new column*"
   ]
  },
  {
   "cell_type": "code",
   "execution_count": 13,
   "metadata": {
    "inputHidden": false,
    "outputHidden": false
   },
   "outputs": [],
   "source": [
    "#add your code below\n",
    "\n",
    "#Make sure you call your new DataFrame comparison_df\n",
    "comparison_df = change_df.copy()\n",
    "\n",
    "avg_mkt_change = comparison_df['Change (%)'].mean()\n",
    "comparison_df['Beat Market'] = comparison_df['Change (%)'] > avg_mkt_change\n",
    "comparison_df['Buy Ratio'] = comparison_df['Buy'] / comparison_df['Brokers']\n"
   ]
  },
  {
   "cell_type": "markdown",
   "metadata": {},
   "source": [
    "## 6. Investigate\n",
    "\n",
    "We want to identify any companies which match a given set of rules, so that we can look into them further.   \n",
    "\n",
    "We want to identify companies in `watchlist` that meet at least one of the following requirements:\n",
    "\n",
    "i) Any company in `watchlist` whose prices is equal to or lower than the given target price.\n",
    "\n",
    "ii) Any company in `watchlist` where `Buy Ratio` is 0.5 or greater.\n",
    "\n",
    "Using the `watchlist` below and `comparison_df` you defined, create a list of companies meeting the requirements, call this list `companies_list`. The list should only have the company names, not the price.\n",
    "\n",
    "Note: **A company meeting both requirements should only appear once in the list**.\n",
    "\n",
    "*Hint: create an empty list to add company names to, using a loop to work through the watchlist. If you want to get the first item in a series of values (such as a column of a filtered DataFrame), you can use* `.values[0]` *on the column.*"
   ]
  },
  {
   "cell_type": "code",
   "execution_count": 14,
   "metadata": {
    "inputHidden": false,
    "outputHidden": false
   },
   "outputs": [
    {
     "data": {
      "text/plain": [
       "[('TUI', 820.0),\n",
       " ('Whitbread', 4300.0),\n",
       " ('AstraZeneca', 7500.0),\n",
       " ('Standard Chartered', 920.0),\n",
       " ('Barclays', 135.5)]"
      ]
     },
     "execution_count": 14,
     "metadata": {},
     "output_type": "execute_result"
    }
   ],
   "source": [
    "watchlist = [('TUI', 820.0), ('Whitbread', 4300.0), ('AstraZeneca', 7500.0), \n",
    "             ('Standard Chartered', 920.0), ('Barclays', 135.5)]\n",
    "watchlist"
   ]
  },
  {
   "cell_type": "code",
   "execution_count": 15,
   "metadata": {},
   "outputs": [],
   "source": [
    "#add your code below\n",
    "\n",
    "#Make sure you call your new empty list companies_list\n",
    "companies_list = []\n",
    "for company, price in watchlist:\n",
    "    company_row = comparison_df[comparison_df['Company'] == company]\n",
    "    if price <= company_row['Mid-price (p)'].values[0] or company_row['Buy Ratio'].values[0] >= 0.5:\n",
    "        companies_list.append(company)\n"
   ]
  },
  {
   "cell_type": "code",
   "execution_count": null,
   "metadata": {},
   "outputs": [],
   "source": []
  }
 ],
 "metadata": {
  "kernel_info": {
   "name": "python3"
  },
  "kernelspec": {
   "display_name": "Python 3 (ipykernel)",
   "language": "python",
   "name": "python3"
  },
  "language_info": {
   "codemirror_mode": {
    "name": "ipython",
    "version": 3
   },
   "file_extension": ".py",
   "mimetype": "text/x-python",
   "name": "python",
   "nbconvert_exporter": "python",
   "pygments_lexer": "ipython3",
   "version": "3.10.0"
  },
  "nteract": {
   "version": "0.15.0"
  }
 },
 "nbformat": 4,
 "nbformat_minor": 4
}
