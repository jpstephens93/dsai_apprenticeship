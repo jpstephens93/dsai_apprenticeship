{
 "cells": [
  {
   "cell_type": "markdown",
   "metadata": {},
   "source": [
    "# Analysis of Daily Stock Price Data"
   ]
  },
  {
   "cell_type": "markdown",
   "metadata": {},
   "source": [
    "KATE expects your code to define variables with specific names that correspond to certain things we are interested in.\n",
    "\n",
    "KATE will run your notebook from top to bottom and check the latest value of those variables, so make sure you don't overwrite them.\n",
    "\n",
    "* Remember to uncomment the line assigning the variable to your answer and don't change the variable or function names.\n",
    "* Use copies of the original or previous DataFrames to make sure you do not overwrite them by mistake.\n",
    "\n",
    "You will find instructions below about how to define each variable.\n",
    "\n",
    "Once you're happy with your code, upload your notebook to KATE to check your feedback."
   ]
  },
  {
   "cell_type": "code",
   "execution_count": 1,
   "metadata": {
    "inputHidden": false,
    "outputHidden": false
   },
   "outputs": [],
   "source": [
    "import pandas as pd"
   ]
  },
  {
   "cell_type": "markdown",
   "metadata": {},
   "source": [
    "First, we will load the dataset from `data/AAPL.csv` into a DataFrame."
   ]
  },
  {
   "cell_type": "code",
   "execution_count": 2,
   "metadata": {},
   "outputs": [
    {
     "data": {
      "text/html": [
       "<div>\n",
       "<style scoped>\n",
       "    .dataframe tbody tr th:only-of-type {\n",
       "        vertical-align: middle;\n",
       "    }\n",
       "\n",
       "    .dataframe tbody tr th {\n",
       "        vertical-align: top;\n",
       "    }\n",
       "\n",
       "    .dataframe thead th {\n",
       "        text-align: right;\n",
       "    }\n",
       "</style>\n",
       "<table border=\"1\" class=\"dataframe\">\n",
       "  <thead>\n",
       "    <tr style=\"text-align: right;\">\n",
       "      <th></th>\n",
       "      <th>Date</th>\n",
       "      <th>Open</th>\n",
       "      <th>High</th>\n",
       "      <th>Low</th>\n",
       "      <th>Close</th>\n",
       "      <th>Adj Close</th>\n",
       "      <th>Volume</th>\n",
       "    </tr>\n",
       "  </thead>\n",
       "  <tbody>\n",
       "    <tr>\n",
       "      <th>0</th>\n",
       "      <td>2015-06-30</td>\n",
       "      <td>125.570000</td>\n",
       "      <td>126.120003</td>\n",
       "      <td>124.860001</td>\n",
       "      <td>125.430000</td>\n",
       "      <td>115.597382</td>\n",
       "      <td>44370700</td>\n",
       "    </tr>\n",
       "    <tr>\n",
       "      <th>1</th>\n",
       "      <td>2015-07-01</td>\n",
       "      <td>126.900002</td>\n",
       "      <td>126.940002</td>\n",
       "      <td>125.989998</td>\n",
       "      <td>126.599998</td>\n",
       "      <td>116.675667</td>\n",
       "      <td>30238800</td>\n",
       "    </tr>\n",
       "    <tr>\n",
       "      <th>2</th>\n",
       "      <td>2015-07-02</td>\n",
       "      <td>126.430000</td>\n",
       "      <td>126.690002</td>\n",
       "      <td>125.769997</td>\n",
       "      <td>126.440002</td>\n",
       "      <td>116.528198</td>\n",
       "      <td>27211000</td>\n",
       "    </tr>\n",
       "    <tr>\n",
       "      <th>3</th>\n",
       "      <td>2015-07-06</td>\n",
       "      <td>124.940002</td>\n",
       "      <td>126.230003</td>\n",
       "      <td>124.849998</td>\n",
       "      <td>126.000000</td>\n",
       "      <td>116.122704</td>\n",
       "      <td>28060400</td>\n",
       "    </tr>\n",
       "    <tr>\n",
       "      <th>4</th>\n",
       "      <td>2015-07-07</td>\n",
       "      <td>125.889999</td>\n",
       "      <td>126.150002</td>\n",
       "      <td>123.769997</td>\n",
       "      <td>125.690002</td>\n",
       "      <td>115.837006</td>\n",
       "      <td>46946800</td>\n",
       "    </tr>\n",
       "  </tbody>\n",
       "</table>\n",
       "</div>"
      ],
      "text/plain": [
       "         Date        Open        High         Low       Close   Adj Close  \\\n",
       "0  2015-06-30  125.570000  126.120003  124.860001  125.430000  115.597382   \n",
       "1  2015-07-01  126.900002  126.940002  125.989998  126.599998  116.675667   \n",
       "2  2015-07-02  126.430000  126.690002  125.769997  126.440002  116.528198   \n",
       "3  2015-07-06  124.940002  126.230003  124.849998  126.000000  116.122704   \n",
       "4  2015-07-07  125.889999  126.150002  123.769997  125.690002  115.837006   \n",
       "\n",
       "     Volume  \n",
       "0  44370700  \n",
       "1  30238800  \n",
       "2  27211000  \n",
       "3  28060400  \n",
       "4  46946800  "
      ]
     },
     "execution_count": 2,
     "metadata": {},
     "output_type": "execute_result"
    }
   ],
   "source": [
    "df = pd.read_csv('data/AAPL.csv')\n",
    "df.head()"
   ]
  },
  {
   "cell_type": "markdown",
   "metadata": {},
   "source": [
    "This data, in its raw format, is the same as that which can be retrieved from a number of financial websites.\n",
    "\n",
    "Before starting the exercise, let's add some additional data columns, calculated from the raw data. Don't worry if you aren't familiar with the methods used in the following cell."
   ]
  },
  {
   "cell_type": "code",
   "execution_count": 3,
   "metadata": {},
   "outputs": [],
   "source": [
    "df['Date'] = pd.to_datetime(df['Date'])\n",
    "df['Year'] = df['Date'].dt.year\n",
    "df['Month'] = df['Date'].dt.month\n",
    "df['Day'] = df['Date'].dt.day\n",
    "df['Weekday'] = df['Date'].dt.day_name()\n",
    "df['Change %'] = (df['Adj Close'].pct_change() * 100)"
   ]
  },
  {
   "cell_type": "code",
   "execution_count": 4,
   "metadata": {},
   "outputs": [
    {
     "data": {
      "text/html": [
       "<div>\n",
       "<style scoped>\n",
       "    .dataframe tbody tr th:only-of-type {\n",
       "        vertical-align: middle;\n",
       "    }\n",
       "\n",
       "    .dataframe tbody tr th {\n",
       "        vertical-align: top;\n",
       "    }\n",
       "\n",
       "    .dataframe thead th {\n",
       "        text-align: right;\n",
       "    }\n",
       "</style>\n",
       "<table border=\"1\" class=\"dataframe\">\n",
       "  <thead>\n",
       "    <tr style=\"text-align: right;\">\n",
       "      <th></th>\n",
       "      <th>Date</th>\n",
       "      <th>Open</th>\n",
       "      <th>High</th>\n",
       "      <th>Low</th>\n",
       "      <th>Close</th>\n",
       "      <th>Adj Close</th>\n",
       "      <th>Volume</th>\n",
       "      <th>Year</th>\n",
       "      <th>Month</th>\n",
       "      <th>Day</th>\n",
       "      <th>Weekday</th>\n",
       "      <th>Change %</th>\n",
       "    </tr>\n",
       "  </thead>\n",
       "  <tbody>\n",
       "    <tr>\n",
       "      <th>0</th>\n",
       "      <td>2015-06-30</td>\n",
       "      <td>125.570000</td>\n",
       "      <td>126.120003</td>\n",
       "      <td>124.860001</td>\n",
       "      <td>125.430000</td>\n",
       "      <td>115.597382</td>\n",
       "      <td>44370700</td>\n",
       "      <td>2015</td>\n",
       "      <td>6</td>\n",
       "      <td>30</td>\n",
       "      <td>Tuesday</td>\n",
       "      <td>NaN</td>\n",
       "    </tr>\n",
       "    <tr>\n",
       "      <th>1</th>\n",
       "      <td>2015-07-01</td>\n",
       "      <td>126.900002</td>\n",
       "      <td>126.940002</td>\n",
       "      <td>125.989998</td>\n",
       "      <td>126.599998</td>\n",
       "      <td>116.675667</td>\n",
       "      <td>30238800</td>\n",
       "      <td>2015</td>\n",
       "      <td>7</td>\n",
       "      <td>1</td>\n",
       "      <td>Wednesday</td>\n",
       "      <td>0.932794</td>\n",
       "    </tr>\n",
       "    <tr>\n",
       "      <th>2</th>\n",
       "      <td>2015-07-02</td>\n",
       "      <td>126.430000</td>\n",
       "      <td>126.690002</td>\n",
       "      <td>125.769997</td>\n",
       "      <td>126.440002</td>\n",
       "      <td>116.528198</td>\n",
       "      <td>27211000</td>\n",
       "      <td>2015</td>\n",
       "      <td>7</td>\n",
       "      <td>2</td>\n",
       "      <td>Thursday</td>\n",
       "      <td>-0.126392</td>\n",
       "    </tr>\n",
       "    <tr>\n",
       "      <th>3</th>\n",
       "      <td>2015-07-06</td>\n",
       "      <td>124.940002</td>\n",
       "      <td>126.230003</td>\n",
       "      <td>124.849998</td>\n",
       "      <td>126.000000</td>\n",
       "      <td>116.122704</td>\n",
       "      <td>28060400</td>\n",
       "      <td>2015</td>\n",
       "      <td>7</td>\n",
       "      <td>6</td>\n",
       "      <td>Monday</td>\n",
       "      <td>-0.347979</td>\n",
       "    </tr>\n",
       "    <tr>\n",
       "      <th>4</th>\n",
       "      <td>2015-07-07</td>\n",
       "      <td>125.889999</td>\n",
       "      <td>126.150002</td>\n",
       "      <td>123.769997</td>\n",
       "      <td>125.690002</td>\n",
       "      <td>115.837006</td>\n",
       "      <td>46946800</td>\n",
       "      <td>2015</td>\n",
       "      <td>7</td>\n",
       "      <td>7</td>\n",
       "      <td>Tuesday</td>\n",
       "      <td>-0.246031</td>\n",
       "    </tr>\n",
       "  </tbody>\n",
       "</table>\n",
       "</div>"
      ],
      "text/plain": [
       "        Date        Open        High         Low       Close   Adj Close  \\\n",
       "0 2015-06-30  125.570000  126.120003  124.860001  125.430000  115.597382   \n",
       "1 2015-07-01  126.900002  126.940002  125.989998  126.599998  116.675667   \n",
       "2 2015-07-02  126.430000  126.690002  125.769997  126.440002  116.528198   \n",
       "3 2015-07-06  124.940002  126.230003  124.849998  126.000000  116.122704   \n",
       "4 2015-07-07  125.889999  126.150002  123.769997  125.690002  115.837006   \n",
       "\n",
       "     Volume  Year  Month  Day    Weekday  Change %  \n",
       "0  44370700  2015      6   30    Tuesday       NaN  \n",
       "1  30238800  2015      7    1  Wednesday  0.932794  \n",
       "2  27211000  2015      7    2   Thursday -0.126392  \n",
       "3  28060400  2015      7    6     Monday -0.347979  \n",
       "4  46946800  2015      7    7    Tuesday -0.246031  "
      ]
     },
     "execution_count": 4,
     "metadata": {},
     "output_type": "execute_result"
    }
   ],
   "source": [
    "df.head()"
   ]
  },
  {
   "cell_type": "markdown",
   "metadata": {},
   "source": [
    "Avoid modifying `df` itself in the subsequent questions."
   ]
  },
  {
   "cell_type": "markdown",
   "metadata": {},
   "source": [
    "## Dataset stats\n",
    "\n",
    "#### 1. What's the mean of the values in the `Adj Close` column?\n",
    "\n",
    "Store the answer in a variable called `mean_adj_close`"
   ]
  },
  {
   "cell_type": "code",
   "execution_count": 5,
   "metadata": {},
   "outputs": [],
   "source": [
    "# Add your code below\n",
    "mean_adj_close = df['Adj Close'].mean()\n"
   ]
  },
  {
   "cell_type": "markdown",
   "metadata": {},
   "source": [
    "#### 2. What's the minimum value in the `Low` column?\n",
    "\n",
    "Store the answer in a variable called `min_low`"
   ]
  },
  {
   "cell_type": "code",
   "execution_count": 6,
   "metadata": {},
   "outputs": [],
   "source": [
    "# Add your code below\n",
    "min_low = df['Low'].min()\n"
   ]
  },
  {
   "cell_type": "markdown",
   "metadata": {},
   "source": [
    "#### 3. What's the maximum value in the `High` column?\n",
    "\n",
    "Store the answer in a variable called `max_high`"
   ]
  },
  {
   "cell_type": "code",
   "execution_count": 7,
   "metadata": {},
   "outputs": [],
   "source": [
    "# Add your code below\n",
    "max_high = df['High'].max()\n"
   ]
  },
  {
   "cell_type": "markdown",
   "metadata": {},
   "source": [
    "#### 4. What's the difference between `min_low` and `max_high`?  \n",
    "\n",
    "Store the answer in a variable called `price_range`"
   ]
  },
  {
   "cell_type": "code",
   "execution_count": 8,
   "metadata": {},
   "outputs": [],
   "source": [
    "# Add your code below\n",
    "price_range = max_high - min_low\n"
   ]
  },
  {
   "cell_type": "markdown",
   "metadata": {},
   "source": [
    "#### 5. How many rows are there in the DataFrame?\n",
    "\n",
    "Store the answer in a variable called `entries`"
   ]
  },
  {
   "cell_type": "code",
   "execution_count": 9,
   "metadata": {},
   "outputs": [],
   "source": [
    "# Add your code below\n",
    "entries = df.shape[0]\n"
   ]
  },
  {
   "cell_type": "markdown",
   "metadata": {},
   "source": [
    "#### 6. On how many days (i.e. number of rows) was `Change %` greater than zero?\n",
    "\n",
    "Store the answer in a variable called `positive_days`"
   ]
  },
  {
   "cell_type": "code",
   "execution_count": 10,
   "metadata": {},
   "outputs": [],
   "source": [
    "# Add your code below\n",
    "mask = df['Change %'] > 0\n",
    "positive_days = len(df[mask])\n"
   ]
  },
  {
   "cell_type": "markdown",
   "metadata": {},
   "source": [
    "#### 7. On how many days (i.e. number of rows) has `Adj Close` been greater than the value in the final row?\n",
    "\n",
    "Store the answer in a variable called `days_higher`\n",
    "\n",
    "*Hint: we can use list indexing with `.iloc` e.g. `.iloc[-1]` to get the last value in a Series, such as a specific column of a DataFrame*"
   ]
  },
  {
   "cell_type": "code",
   "execution_count": 11,
   "metadata": {},
   "outputs": [],
   "source": [
    "# Add your code below\n",
    "final_value = df.loc[entries - 1, 'Adj Close']\n",
    "mask = df['Adj Close'] > final_value\n",
    "days_higher = len(df[mask])\n"
   ]
  },
  {
   "cell_type": "markdown",
   "metadata": {},
   "source": [
    "## Dataset sorting and filtering"
   ]
  },
  {
   "cell_type": "markdown",
   "metadata": {},
   "source": [
    "#### 8. Create a new DataFrame called `df_2020` which is the same as `df` but contains only the rows where `Year == 2020`. \n",
    "\n",
    "Use `set_index('Date', inplace=True)` to set the `Date` column as the row index."
   ]
  },
  {
   "cell_type": "code",
   "execution_count": 12,
   "metadata": {},
   "outputs": [],
   "source": [
    "# Add your code below\n",
    "df_2020 = df[df['Year'] == 2020]\n",
    "df_2020.set_index('Date', inplace=True)\n"
   ]
  },
  {
   "cell_type": "markdown",
   "metadata": {},
   "source": [
    "#### 9. Continuing with `df_2020`, calculate the `.mean()` of `Change %` for entries where `Weekday == Monday`.\n",
    "\n",
    "Store the value in a variable called `mean_change_mon_2020`."
   ]
  },
  {
   "cell_type": "code",
   "execution_count": 13,
   "metadata": {},
   "outputs": [],
   "source": [
    "# Add your code below\n",
    "mean_change_mon_2020 = df_2020[df_2020['Weekday'] == 'Monday']['Change %'].mean()\n"
   ]
  },
  {
   "cell_type": "markdown",
   "metadata": {},
   "source": [
    "When you have calculated `mean_change_mon_2020`, uncomment and run the cell below to view its value:"
   ]
  },
  {
   "cell_type": "code",
   "execution_count": 14,
   "metadata": {},
   "outputs": [
    {
     "data": {
      "text/plain": [
       "0.2918877852311579"
      ]
     },
     "execution_count": 14,
     "metadata": {},
     "output_type": "execute_result"
    }
   ],
   "source": [
    "mean_change_mon_2020"
   ]
  },
  {
   "cell_type": "markdown",
   "metadata": {},
   "source": [
    "#### 10. Calculate the sum of the `Volume` column in `df_2020` for entries where `Month == 3`.\n",
    "\n",
    "Store the value in a variable called `total_volume_march_2020`."
   ]
  },
  {
   "cell_type": "code",
   "execution_count": 15,
   "metadata": {},
   "outputs": [],
   "source": [
    "# Add your code below\n",
    "total_volume_march_2020 = df_2020[df_2020['Month'] == 3]['Volume'].sum()\n"
   ]
  },
  {
   "cell_type": "markdown",
   "metadata": {},
   "source": [
    "When you have calculated `total_volume_march_2020`, uncomment and run the cell below to view its value:"
   ]
  },
  {
   "cell_type": "code",
   "execution_count": 16,
   "metadata": {},
   "outputs": [
    {
     "data": {
      "text/plain": [
       "1570018100"
      ]
     },
     "execution_count": 16,
     "metadata": {},
     "output_type": "execute_result"
    }
   ],
   "source": [
    "total_volume_march_2020"
   ]
  },
  {
   "cell_type": "markdown",
   "metadata": {},
   "source": [
    "#### 11. Using `df_2020`, determine when `Adj Close` was the highest.\n",
    "\n",
    "- look at the [documentation](https://pandas.pydata.org/pandas-docs/stable/reference/api/pandas.DataFrame.idxmax.html) for the `.idxmax()` method and use it for this task \n",
    "- this will only work if the row index has been set to the `Date` as instructed earlier in the assignment\n",
    "\n",
    "Store the value in a variable called `year_high_timestamp`\n"
   ]
  },
  {
   "cell_type": "code",
   "execution_count": 17,
   "metadata": {},
   "outputs": [],
   "source": [
    "# Add your code below\n",
    "year_high_timestamp = df_2020.idxmax()['Adj Close']"
   ]
  },
  {
   "cell_type": "markdown",
   "metadata": {},
   "source": [
    "#### 12. Create a DataFrame called `df_top_10` which contains the 10 entries from `df` with the highest positive `Change %` values.\n",
    "- consider all entries in `df` rather than `df_2020`\n",
    "- remember to avoid modifying `df` or any other stored DataFrames \n",
    "- `.copy()` can be used to copy a DataFrame to a new variable"
   ]
  },
  {
   "cell_type": "code",
   "execution_count": 18,
   "metadata": {},
   "outputs": [],
   "source": [
    "# Add your code below\n",
    "df_top_10 = df.copy()\n",
    "df_top_10 = df_top_10.sort_values('Change %', ascending=False).head(10)\n"
   ]
  },
  {
   "cell_type": "markdown",
   "metadata": {},
   "source": [
    "#### 13. How many entries in `df_top_10` were *not* on a Monday?\n",
    "Store the value in a variable called `top_10_not_mon`"
   ]
  },
  {
   "cell_type": "code",
   "execution_count": 19,
   "metadata": {},
   "outputs": [],
   "source": [
    "# Add your code below\n",
    "top_10_not_mon = len(df_top_10[df_top_10['Weekday'] != 'Monday'])\n"
   ]
  },
  {
   "cell_type": "markdown",
   "metadata": {},
   "source": [
    "When you have calculate `top_10_not_mon`, uncomment and run the cell below to inspect it:"
   ]
  },
  {
   "cell_type": "code",
   "execution_count": 20,
   "metadata": {},
   "outputs": [
    {
     "data": {
      "text/plain": [
       "8"
      ]
     },
     "execution_count": 20,
     "metadata": {},
     "output_type": "execute_result"
    }
   ],
   "source": [
    "top_10_not_mon"
   ]
  },
  {
   "cell_type": "markdown",
   "metadata": {},
   "source": [
    "## Dataset manipulation"
   ]
  },
  {
   "cell_type": "markdown",
   "metadata": {},
   "source": [
    "#### 14. Create a new DataFrame called `df_var`, which the same as `df` but with an additional column `Variation %`, which is equal to:\n",
    "\n",
    "((`High` - `Low`) / `Close`) * 100\n",
    "\n",
    "- be sure to use `Close` rather than `Adj Close` in this question\n",
    "- do not modify `df` but create a copy: `df_var = df.copy()`"
   ]
  },
  {
   "cell_type": "code",
   "execution_count": 25,
   "metadata": {
    "scrolled": true
   },
   "outputs": [],
   "source": [
    "# Add your code below\n",
    "df_var = df.copy()\n",
    "df_var['Variation %'] = ((df_var['High'] - df_var['Low']) / df_var['Close']) * 100\n"
   ]
  },
  {
   "cell_type": "markdown",
   "metadata": {},
   "source": [
    "Once you have calculated `df_var`, you can uncomment and run the cell below to inspect it:"
   ]
  },
  {
   "cell_type": "code",
   "execution_count": 26,
   "metadata": {},
   "outputs": [
    {
     "data": {
      "text/html": [
       "<div>\n",
       "<style scoped>\n",
       "    .dataframe tbody tr th:only-of-type {\n",
       "        vertical-align: middle;\n",
       "    }\n",
       "\n",
       "    .dataframe tbody tr th {\n",
       "        vertical-align: top;\n",
       "    }\n",
       "\n",
       "    .dataframe thead th {\n",
       "        text-align: right;\n",
       "    }\n",
       "</style>\n",
       "<table border=\"1\" class=\"dataframe\">\n",
       "  <thead>\n",
       "    <tr style=\"text-align: right;\">\n",
       "      <th></th>\n",
       "      <th>Date</th>\n",
       "      <th>Open</th>\n",
       "      <th>High</th>\n",
       "      <th>Low</th>\n",
       "      <th>Close</th>\n",
       "      <th>Adj Close</th>\n",
       "      <th>Volume</th>\n",
       "      <th>Year</th>\n",
       "      <th>Month</th>\n",
       "      <th>Day</th>\n",
       "      <th>Weekday</th>\n",
       "      <th>Change %</th>\n",
       "      <th>Variation %</th>\n",
       "    </tr>\n",
       "  </thead>\n",
       "  <tbody>\n",
       "    <tr>\n",
       "      <th>0</th>\n",
       "      <td>2015-06-30</td>\n",
       "      <td>125.570000</td>\n",
       "      <td>126.120003</td>\n",
       "      <td>124.860001</td>\n",
       "      <td>125.430000</td>\n",
       "      <td>115.597382</td>\n",
       "      <td>44370700</td>\n",
       "      <td>2015</td>\n",
       "      <td>6</td>\n",
       "      <td>30</td>\n",
       "      <td>Tuesday</td>\n",
       "      <td>NaN</td>\n",
       "      <td>1.004546</td>\n",
       "    </tr>\n",
       "    <tr>\n",
       "      <th>1</th>\n",
       "      <td>2015-07-01</td>\n",
       "      <td>126.900002</td>\n",
       "      <td>126.940002</td>\n",
       "      <td>125.989998</td>\n",
       "      <td>126.599998</td>\n",
       "      <td>116.675667</td>\n",
       "      <td>30238800</td>\n",
       "      <td>2015</td>\n",
       "      <td>7</td>\n",
       "      <td>1</td>\n",
       "      <td>Wednesday</td>\n",
       "      <td>0.932794</td>\n",
       "      <td>0.750398</td>\n",
       "    </tr>\n",
       "    <tr>\n",
       "      <th>2</th>\n",
       "      <td>2015-07-02</td>\n",
       "      <td>126.430000</td>\n",
       "      <td>126.690002</td>\n",
       "      <td>125.769997</td>\n",
       "      <td>126.440002</td>\n",
       "      <td>116.528198</td>\n",
       "      <td>27211000</td>\n",
       "      <td>2015</td>\n",
       "      <td>7</td>\n",
       "      <td>2</td>\n",
       "      <td>Thursday</td>\n",
       "      <td>-0.126392</td>\n",
       "      <td>0.727622</td>\n",
       "    </tr>\n",
       "    <tr>\n",
       "      <th>3</th>\n",
       "      <td>2015-07-06</td>\n",
       "      <td>124.940002</td>\n",
       "      <td>126.230003</td>\n",
       "      <td>124.849998</td>\n",
       "      <td>126.000000</td>\n",
       "      <td>116.122704</td>\n",
       "      <td>28060400</td>\n",
       "      <td>2015</td>\n",
       "      <td>7</td>\n",
       "      <td>6</td>\n",
       "      <td>Monday</td>\n",
       "      <td>-0.347979</td>\n",
       "      <td>1.095242</td>\n",
       "    </tr>\n",
       "    <tr>\n",
       "      <th>4</th>\n",
       "      <td>2015-07-07</td>\n",
       "      <td>125.889999</td>\n",
       "      <td>126.150002</td>\n",
       "      <td>123.769997</td>\n",
       "      <td>125.690002</td>\n",
       "      <td>115.837006</td>\n",
       "      <td>46946800</td>\n",
       "      <td>2015</td>\n",
       "      <td>7</td>\n",
       "      <td>7</td>\n",
       "      <td>Tuesday</td>\n",
       "      <td>-0.246031</td>\n",
       "      <td>1.893552</td>\n",
       "    </tr>\n",
       "  </tbody>\n",
       "</table>\n",
       "</div>"
      ],
      "text/plain": [
       "        Date        Open        High         Low       Close   Adj Close  \\\n",
       "0 2015-06-30  125.570000  126.120003  124.860001  125.430000  115.597382   \n",
       "1 2015-07-01  126.900002  126.940002  125.989998  126.599998  116.675667   \n",
       "2 2015-07-02  126.430000  126.690002  125.769997  126.440002  116.528198   \n",
       "3 2015-07-06  124.940002  126.230003  124.849998  126.000000  116.122704   \n",
       "4 2015-07-07  125.889999  126.150002  123.769997  125.690002  115.837006   \n",
       "\n",
       "     Volume  Year  Month  Day    Weekday  Change %  Variation %  \n",
       "0  44370700  2015      6   30    Tuesday       NaN     1.004546  \n",
       "1  30238800  2015      7    1  Wednesday  0.932794     0.750398  \n",
       "2  27211000  2015      7    2   Thursday -0.126392     0.727622  \n",
       "3  28060400  2015      7    6     Monday -0.347979     1.095242  \n",
       "4  46946800  2015      7    7    Tuesday -0.246031     1.893552  "
      ]
     },
     "execution_count": 26,
     "metadata": {},
     "output_type": "execute_result"
    }
   ],
   "source": [
    "df_var.head()"
   ]
  },
  {
   "cell_type": "markdown",
   "metadata": {},
   "source": [
    "#### 15. Create a new DataFrame called `df_var_value`, which the same as `df_var` but with an additional column `Traded Value`, equal to:\n",
    "`Volume * Adj Close`\n",
    "\n",
    "- do not modify `df_var` but create a copy: `df_var_value = df_var.copy()`"
   ]
  },
  {
   "cell_type": "code",
   "execution_count": 23,
   "metadata": {},
   "outputs": [],
   "source": [
    "# Add your code below\n",
    "df_var_value = df_var.copy()\n",
    "df_var_value['Traded Value'] = df_var_value['Volume'] * df_var_value['Adj Close']\n"
   ]
  },
  {
   "cell_type": "markdown",
   "metadata": {},
   "source": [
    "Now uncomment and run the cell below to view `df_var_value`:"
   ]
  },
  {
   "cell_type": "code",
   "execution_count": 24,
   "metadata": {},
   "outputs": [
    {
     "data": {
      "text/html": [
       "<div>\n",
       "<style scoped>\n",
       "    .dataframe tbody tr th:only-of-type {\n",
       "        vertical-align: middle;\n",
       "    }\n",
       "\n",
       "    .dataframe tbody tr th {\n",
       "        vertical-align: top;\n",
       "    }\n",
       "\n",
       "    .dataframe thead th {\n",
       "        text-align: right;\n",
       "    }\n",
       "</style>\n",
       "<table border=\"1\" class=\"dataframe\">\n",
       "  <thead>\n",
       "    <tr style=\"text-align: right;\">\n",
       "      <th></th>\n",
       "      <th>Date</th>\n",
       "      <th>Open</th>\n",
       "      <th>High</th>\n",
       "      <th>Low</th>\n",
       "      <th>Close</th>\n",
       "      <th>Adj Close</th>\n",
       "      <th>Volume</th>\n",
       "      <th>Year</th>\n",
       "      <th>Month</th>\n",
       "      <th>Day</th>\n",
       "      <th>Weekday</th>\n",
       "      <th>Change %</th>\n",
       "      <th>Variation %</th>\n",
       "      <th>Traded Value</th>\n",
       "    </tr>\n",
       "  </thead>\n",
       "  <tbody>\n",
       "    <tr>\n",
       "      <th>0</th>\n",
       "      <td>2015-06-30</td>\n",
       "      <td>125.570000</td>\n",
       "      <td>126.120003</td>\n",
       "      <td>124.860001</td>\n",
       "      <td>125.430000</td>\n",
       "      <td>115.597382</td>\n",
       "      <td>44370700</td>\n",
       "      <td>2015</td>\n",
       "      <td>6</td>\n",
       "      <td>30</td>\n",
       "      <td>Tuesday</td>\n",
       "      <td>NaN</td>\n",
       "      <td>1.004546</td>\n",
       "      <td>5.129137e+09</td>\n",
       "    </tr>\n",
       "    <tr>\n",
       "      <th>1</th>\n",
       "      <td>2015-07-01</td>\n",
       "      <td>126.900002</td>\n",
       "      <td>126.940002</td>\n",
       "      <td>125.989998</td>\n",
       "      <td>126.599998</td>\n",
       "      <td>116.675667</td>\n",
       "      <td>30238800</td>\n",
       "      <td>2015</td>\n",
       "      <td>7</td>\n",
       "      <td>1</td>\n",
       "      <td>Wednesday</td>\n",
       "      <td>0.932794</td>\n",
       "      <td>0.750398</td>\n",
       "      <td>3.528132e+09</td>\n",
       "    </tr>\n",
       "    <tr>\n",
       "      <th>2</th>\n",
       "      <td>2015-07-02</td>\n",
       "      <td>126.430000</td>\n",
       "      <td>126.690002</td>\n",
       "      <td>125.769997</td>\n",
       "      <td>126.440002</td>\n",
       "      <td>116.528198</td>\n",
       "      <td>27211000</td>\n",
       "      <td>2015</td>\n",
       "      <td>7</td>\n",
       "      <td>2</td>\n",
       "      <td>Thursday</td>\n",
       "      <td>-0.126392</td>\n",
       "      <td>0.727622</td>\n",
       "      <td>3.170849e+09</td>\n",
       "    </tr>\n",
       "    <tr>\n",
       "      <th>3</th>\n",
       "      <td>2015-07-06</td>\n",
       "      <td>124.940002</td>\n",
       "      <td>126.230003</td>\n",
       "      <td>124.849998</td>\n",
       "      <td>126.000000</td>\n",
       "      <td>116.122704</td>\n",
       "      <td>28060400</td>\n",
       "      <td>2015</td>\n",
       "      <td>7</td>\n",
       "      <td>6</td>\n",
       "      <td>Monday</td>\n",
       "      <td>-0.347979</td>\n",
       "      <td>1.095242</td>\n",
       "      <td>3.258450e+09</td>\n",
       "    </tr>\n",
       "    <tr>\n",
       "      <th>4</th>\n",
       "      <td>2015-07-07</td>\n",
       "      <td>125.889999</td>\n",
       "      <td>126.150002</td>\n",
       "      <td>123.769997</td>\n",
       "      <td>125.690002</td>\n",
       "      <td>115.837006</td>\n",
       "      <td>46946800</td>\n",
       "      <td>2015</td>\n",
       "      <td>7</td>\n",
       "      <td>7</td>\n",
       "      <td>Tuesday</td>\n",
       "      <td>-0.246031</td>\n",
       "      <td>1.893552</td>\n",
       "      <td>5.438177e+09</td>\n",
       "    </tr>\n",
       "  </tbody>\n",
       "</table>\n",
       "</div>"
      ],
      "text/plain": [
       "        Date        Open        High         Low       Close   Adj Close  \\\n",
       "0 2015-06-30  125.570000  126.120003  124.860001  125.430000  115.597382   \n",
       "1 2015-07-01  126.900002  126.940002  125.989998  126.599998  116.675667   \n",
       "2 2015-07-02  126.430000  126.690002  125.769997  126.440002  116.528198   \n",
       "3 2015-07-06  124.940002  126.230003  124.849998  126.000000  116.122704   \n",
       "4 2015-07-07  125.889999  126.150002  123.769997  125.690002  115.837006   \n",
       "\n",
       "     Volume  Year  Month  Day    Weekday  Change %  Variation %  Traded Value  \n",
       "0  44370700  2015      6   30    Tuesday       NaN     1.004546  5.129137e+09  \n",
       "1  30238800  2015      7    1  Wednesday  0.932794     0.750398  3.528132e+09  \n",
       "2  27211000  2015      7    2   Thursday -0.126392     0.727622  3.170849e+09  \n",
       "3  28060400  2015      7    6     Monday -0.347979     1.095242  3.258450e+09  \n",
       "4  46946800  2015      7    7    Tuesday -0.246031     1.893552  5.438177e+09  "
      ]
     },
     "execution_count": 24,
     "metadata": {},
     "output_type": "execute_result"
    }
   ],
   "source": [
    "df_var_value.head()"
   ]
  }
 ],
 "metadata": {
  "kernel_info": {
   "name": "python3"
  },
  "kernelspec": {
   "display_name": "Python 3 (ipykernel)",
   "language": "python",
   "name": "python3"
  },
  "language_info": {
   "codemirror_mode": {
    "name": "ipython",
    "version": 3
   },
   "file_extension": ".py",
   "mimetype": "text/x-python",
   "name": "python",
   "nbconvert_exporter": "python",
   "pygments_lexer": "ipython3",
   "version": "3.10.0"
  },
  "nteract": {
   "version": "0.15.0"
  }
 },
 "nbformat": 4,
 "nbformat_minor": 4
}
